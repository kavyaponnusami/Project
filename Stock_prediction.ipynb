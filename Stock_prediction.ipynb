{
  "nbformat": 4,
  "nbformat_minor": 0,
  "metadata": {
    "kernelspec": {
      "display_name": "Python 3",
      "language": "python",
      "name": "python3"
    },
    "language_info": {
      "codemirror_mode": {
        "name": "ipython",
        "version": 3
      },
      "file_extension": ".py",
      "mimetype": "text/x-python",
      "name": "python",
      "nbconvert_exporter": "python",
      "pygments_lexer": "ipython3",
      "version": "3.7.6"
    },
    "colab": {
      "name": "Stock prediction.ipynb",
      "provenance": []
    }
  },
  "cells": [
    {
      "cell_type": "markdown",
      "metadata": {
        "id": "Z-8ptnm4MjgL"
      },
      "source": [
        "### Stock Market Prediction And Forecasting Using Stacked LSTM"
      ]
    },
    {
      "cell_type": "code",
      "metadata": {
        "id": "MSrOldQIMjgP"
      },
      "source": [
        "### Keras and Tensorflow >2.0"
      ],
      "execution_count": 53,
      "outputs": []
    },
    {
      "cell_type": "code",
      "metadata": {
        "id": "JI4kfmqfMjgQ"
      },
      "source": [
        "### Data Collection\n",
        "import pandas_datareader as pdr\n",
        "key=\"0d1ba115ceb75c7e5255bc6c89bbe509c08d0e38\""
      ],
      "execution_count": 54,
      "outputs": []
    },
    {
      "cell_type": "code",
      "metadata": {
        "id": "I_Sklj4tMjgQ"
      },
      "source": [
        "df = pdr.get_data_tiingo('AAPL', api_key=key)"
      ],
      "execution_count": 55,
      "outputs": []
    },
    {
      "cell_type": "code",
      "metadata": {
        "id": "BT9VKluiMjgQ"
      },
      "source": [
        "df.to_csv('AAPL.csv')"
      ],
      "execution_count": 56,
      "outputs": []
    },
    {
      "cell_type": "code",
      "metadata": {
        "id": "K1dG9lxNMjgQ"
      },
      "source": [
        "import pandas as pd"
      ],
      "execution_count": 57,
      "outputs": []
    },
    {
      "cell_type": "code",
      "metadata": {
        "id": "yiRykSH3MjgR"
      },
      "source": [
        "df=pd.read_csv('AAPL.csv')"
      ],
      "execution_count": 58,
      "outputs": []
    },
    {
      "cell_type": "code",
      "metadata": {
        "colab": {
          "base_uri": "https://localhost:8080/",
          "height": 195
        },
        "id": "CCbzwdB8MjgR",
        "outputId": "f843f993-c5fb-42ed-d4fb-e84f91ef4ff4"
      },
      "source": [
        "df.head()"
      ],
      "execution_count": 59,
      "outputs": [
        {
          "output_type": "execute_result",
          "data": {
            "text/html": [
              "<div>\n",
              "<style scoped>\n",
              "    .dataframe tbody tr th:only-of-type {\n",
              "        vertical-align: middle;\n",
              "    }\n",
              "\n",
              "    .dataframe tbody tr th {\n",
              "        vertical-align: top;\n",
              "    }\n",
              "\n",
              "    .dataframe thead th {\n",
              "        text-align: right;\n",
              "    }\n",
              "</style>\n",
              "<table border=\"1\" class=\"dataframe\">\n",
              "  <thead>\n",
              "    <tr style=\"text-align: right;\">\n",
              "      <th></th>\n",
              "      <th>symbol</th>\n",
              "      <th>date</th>\n",
              "      <th>close</th>\n",
              "      <th>high</th>\n",
              "      <th>low</th>\n",
              "      <th>open</th>\n",
              "      <th>volume</th>\n",
              "      <th>adjClose</th>\n",
              "      <th>adjHigh</th>\n",
              "      <th>adjLow</th>\n",
              "      <th>adjOpen</th>\n",
              "      <th>adjVolume</th>\n",
              "      <th>divCash</th>\n",
              "      <th>splitFactor</th>\n",
              "    </tr>\n",
              "  </thead>\n",
              "  <tbody>\n",
              "    <tr>\n",
              "      <th>0</th>\n",
              "      <td>AAPL</td>\n",
              "      <td>2015-11-23 00:00:00+00:00</td>\n",
              "      <td>117.75</td>\n",
              "      <td>119.73</td>\n",
              "      <td>117.34</td>\n",
              "      <td>119.27</td>\n",
              "      <td>32482528</td>\n",
              "      <td>27.269555</td>\n",
              "      <td>27.728101</td>\n",
              "      <td>27.174604</td>\n",
              "      <td>27.621570</td>\n",
              "      <td>129930112</td>\n",
              "      <td>0.0</td>\n",
              "      <td>1.0</td>\n",
              "    </tr>\n",
              "    <tr>\n",
              "      <th>1</th>\n",
              "      <td>AAPL</td>\n",
              "      <td>2015-11-24 00:00:00+00:00</td>\n",
              "      <td>118.88</td>\n",
              "      <td>119.35</td>\n",
              "      <td>117.12</td>\n",
              "      <td>117.33</td>\n",
              "      <td>42803172</td>\n",
              "      <td>27.531251</td>\n",
              "      <td>27.640097</td>\n",
              "      <td>27.123655</td>\n",
              "      <td>27.172288</td>\n",
              "      <td>171212688</td>\n",
              "      <td>0.0</td>\n",
              "      <td>1.0</td>\n",
              "    </tr>\n",
              "    <tr>\n",
              "      <th>2</th>\n",
              "      <td>AAPL</td>\n",
              "      <td>2015-11-25 00:00:00+00:00</td>\n",
              "      <td>118.03</td>\n",
              "      <td>119.23</td>\n",
              "      <td>117.92</td>\n",
              "      <td>119.21</td>\n",
              "      <td>21388308</td>\n",
              "      <td>27.334400</td>\n",
              "      <td>27.612307</td>\n",
              "      <td>27.308926</td>\n",
              "      <td>27.607675</td>\n",
              "      <td>85553232</td>\n",
              "      <td>0.0</td>\n",
              "      <td>1.0</td>\n",
              "    </tr>\n",
              "    <tr>\n",
              "      <th>3</th>\n",
              "      <td>AAPL</td>\n",
              "      <td>2015-11-27 00:00:00+00:00</td>\n",
              "      <td>117.81</td>\n",
              "      <td>118.41</td>\n",
              "      <td>117.60</td>\n",
              "      <td>118.29</td>\n",
              "      <td>13046445</td>\n",
              "      <td>27.283451</td>\n",
              "      <td>27.422404</td>\n",
              "      <td>27.234817</td>\n",
              "      <td>27.394613</td>\n",
              "      <td>52185780</td>\n",
              "      <td>0.0</td>\n",
              "      <td>1.0</td>\n",
              "    </tr>\n",
              "    <tr>\n",
              "      <th>4</th>\n",
              "      <td>AAPL</td>\n",
              "      <td>2015-11-30 00:00:00+00:00</td>\n",
              "      <td>118.30</td>\n",
              "      <td>119.41</td>\n",
              "      <td>117.75</td>\n",
              "      <td>117.99</td>\n",
              "      <td>39180322</td>\n",
              "      <td>27.396929</td>\n",
              "      <td>27.653993</td>\n",
              "      <td>27.269555</td>\n",
              "      <td>27.325137</td>\n",
              "      <td>156721288</td>\n",
              "      <td>0.0</td>\n",
              "      <td>1.0</td>\n",
              "    </tr>\n",
              "  </tbody>\n",
              "</table>\n",
              "</div>"
            ],
            "text/plain": [
              "  symbol                       date   close  ...  adjVolume  divCash  splitFactor\n",
              "0   AAPL  2015-11-23 00:00:00+00:00  117.75  ...  129930112      0.0          1.0\n",
              "1   AAPL  2015-11-24 00:00:00+00:00  118.88  ...  171212688      0.0          1.0\n",
              "2   AAPL  2015-11-25 00:00:00+00:00  118.03  ...   85553232      0.0          1.0\n",
              "3   AAPL  2015-11-27 00:00:00+00:00  117.81  ...   52185780      0.0          1.0\n",
              "4   AAPL  2015-11-30 00:00:00+00:00  118.30  ...  156721288      0.0          1.0\n",
              "\n",
              "[5 rows x 14 columns]"
            ]
          },
          "metadata": {
            "tags": []
          },
          "execution_count": 59
        }
      ]
    },
    {
      "cell_type": "code",
      "metadata": {
        "colab": {
          "base_uri": "https://localhost:8080/",
          "height": 195
        },
        "id": "oNmIJOaCMjgU",
        "outputId": "d2e56ea8-9e1f-4784-9e03-3919d920a15e"
      },
      "source": [
        "df.tail()"
      ],
      "execution_count": 60,
      "outputs": [
        {
          "output_type": "execute_result",
          "data": {
            "text/html": [
              "<div>\n",
              "<style scoped>\n",
              "    .dataframe tbody tr th:only-of-type {\n",
              "        vertical-align: middle;\n",
              "    }\n",
              "\n",
              "    .dataframe tbody tr th {\n",
              "        vertical-align: top;\n",
              "    }\n",
              "\n",
              "    .dataframe thead th {\n",
              "        text-align: right;\n",
              "    }\n",
              "</style>\n",
              "<table border=\"1\" class=\"dataframe\">\n",
              "  <thead>\n",
              "    <tr style=\"text-align: right;\">\n",
              "      <th></th>\n",
              "      <th>symbol</th>\n",
              "      <th>date</th>\n",
              "      <th>close</th>\n",
              "      <th>high</th>\n",
              "      <th>low</th>\n",
              "      <th>open</th>\n",
              "      <th>volume</th>\n",
              "      <th>adjClose</th>\n",
              "      <th>adjHigh</th>\n",
              "      <th>adjLow</th>\n",
              "      <th>adjOpen</th>\n",
              "      <th>adjVolume</th>\n",
              "      <th>divCash</th>\n",
              "      <th>splitFactor</th>\n",
              "    </tr>\n",
              "  </thead>\n",
              "  <tbody>\n",
              "    <tr>\n",
              "      <th>1253</th>\n",
              "      <td>AAPL</td>\n",
              "      <td>2020-11-13 00:00:00+00:00</td>\n",
              "      <td>119.26</td>\n",
              "      <td>119.6717</td>\n",
              "      <td>117.870</td>\n",
              "      <td>119.44</td>\n",
              "      <td>81688586</td>\n",
              "      <td>119.26</td>\n",
              "      <td>119.6717</td>\n",
              "      <td>117.870</td>\n",
              "      <td>119.44</td>\n",
              "      <td>81688586</td>\n",
              "      <td>0.0</td>\n",
              "      <td>1.0</td>\n",
              "    </tr>\n",
              "    <tr>\n",
              "      <th>1254</th>\n",
              "      <td>AAPL</td>\n",
              "      <td>2020-11-16 00:00:00+00:00</td>\n",
              "      <td>120.30</td>\n",
              "      <td>120.9900</td>\n",
              "      <td>118.146</td>\n",
              "      <td>118.92</td>\n",
              "      <td>91183018</td>\n",
              "      <td>120.30</td>\n",
              "      <td>120.9900</td>\n",
              "      <td>118.146</td>\n",
              "      <td>118.92</td>\n",
              "      <td>91183018</td>\n",
              "      <td>0.0</td>\n",
              "      <td>1.0</td>\n",
              "    </tr>\n",
              "    <tr>\n",
              "      <th>1255</th>\n",
              "      <td>AAPL</td>\n",
              "      <td>2020-11-17 00:00:00+00:00</td>\n",
              "      <td>119.39</td>\n",
              "      <td>120.6741</td>\n",
              "      <td>118.960</td>\n",
              "      <td>119.55</td>\n",
              "      <td>74270973</td>\n",
              "      <td>119.39</td>\n",
              "      <td>120.6741</td>\n",
              "      <td>118.960</td>\n",
              "      <td>119.55</td>\n",
              "      <td>74270973</td>\n",
              "      <td>0.0</td>\n",
              "      <td>1.0</td>\n",
              "    </tr>\n",
              "    <tr>\n",
              "      <th>1256</th>\n",
              "      <td>AAPL</td>\n",
              "      <td>2020-11-18 00:00:00+00:00</td>\n",
              "      <td>118.03</td>\n",
              "      <td>119.8200</td>\n",
              "      <td>118.000</td>\n",
              "      <td>118.61</td>\n",
              "      <td>76322111</td>\n",
              "      <td>118.03</td>\n",
              "      <td>119.8200</td>\n",
              "      <td>118.000</td>\n",
              "      <td>118.61</td>\n",
              "      <td>76322111</td>\n",
              "      <td>0.0</td>\n",
              "      <td>1.0</td>\n",
              "    </tr>\n",
              "    <tr>\n",
              "      <th>1257</th>\n",
              "      <td>AAPL</td>\n",
              "      <td>2020-11-19 00:00:00+00:00</td>\n",
              "      <td>118.64</td>\n",
              "      <td>119.0600</td>\n",
              "      <td>116.810</td>\n",
              "      <td>117.59</td>\n",
              "      <td>74112972</td>\n",
              "      <td>118.64</td>\n",
              "      <td>119.0600</td>\n",
              "      <td>116.810</td>\n",
              "      <td>117.59</td>\n",
              "      <td>74112972</td>\n",
              "      <td>0.0</td>\n",
              "      <td>1.0</td>\n",
              "    </tr>\n",
              "  </tbody>\n",
              "</table>\n",
              "</div>"
            ],
            "text/plain": [
              "     symbol                       date   close  ...  adjVolume  divCash  splitFactor\n",
              "1253   AAPL  2020-11-13 00:00:00+00:00  119.26  ...   81688586      0.0          1.0\n",
              "1254   AAPL  2020-11-16 00:00:00+00:00  120.30  ...   91183018      0.0          1.0\n",
              "1255   AAPL  2020-11-17 00:00:00+00:00  119.39  ...   74270973      0.0          1.0\n",
              "1256   AAPL  2020-11-18 00:00:00+00:00  118.03  ...   76322111      0.0          1.0\n",
              "1257   AAPL  2020-11-19 00:00:00+00:00  118.64  ...   74112972      0.0          1.0\n",
              "\n",
              "[5 rows x 14 columns]"
            ]
          },
          "metadata": {
            "tags": []
          },
          "execution_count": 60
        }
      ]
    },
    {
      "cell_type": "code",
      "metadata": {
        "id": "OYSb36UCMjgW"
      },
      "source": [
        "df1=df.reset_index()['close']"
      ],
      "execution_count": 61,
      "outputs": []
    },
    {
      "cell_type": "code",
      "metadata": {
        "colab": {
          "base_uri": "https://localhost:8080/"
        },
        "id": "Wi0zqDSoMjgW",
        "outputId": "946605ed-622b-441d-d42c-47c58d4a7535"
      },
      "source": [
        "df1"
      ],
      "execution_count": 62,
      "outputs": [
        {
          "output_type": "execute_result",
          "data": {
            "text/plain": [
              "0       117.75\n",
              "1       118.88\n",
              "2       118.03\n",
              "3       117.81\n",
              "4       118.30\n",
              "         ...  \n",
              "1253    119.26\n",
              "1254    120.30\n",
              "1255    119.39\n",
              "1256    118.03\n",
              "1257    118.64\n",
              "Name: close, Length: 1258, dtype: float64"
            ]
          },
          "metadata": {
            "tags": []
          },
          "execution_count": 62
        }
      ]
    },
    {
      "cell_type": "code",
      "metadata": {
        "colab": {
          "base_uri": "https://localhost:8080/",
          "height": 282
        },
        "id": "bBLzlq7cMjgX",
        "outputId": "054c8052-b8ee-4e45-c439-e3120fb58a52"
      },
      "source": [
        "import matplotlib.pyplot as plt\n",
        "plt.plot(df1)"
      ],
      "execution_count": 63,
      "outputs": [
        {
          "output_type": "execute_result",
          "data": {
            "text/plain": [
              "[<matplotlib.lines.Line2D at 0x7fca59848208>]"
            ]
          },
          "metadata": {
            "tags": []
          },
          "execution_count": 63
        },
        {
          "output_type": "display_data",
          "data": {
            "image/png": "[encoded data removed]",
            "text/plain": [
              "<Figure size 432x288 with 1 Axes>"
            ]
          },
          "metadata": {
            "tags": [],
            "needs_background": "light"
          }
        }
      ]
    },
    {
      "cell_type": "code",
      "metadata": {
        "id": "E5k2zyPbMjgX"
      },
      "source": [
        "### LSTM are sensitive to the scale of the data. so we apply MinMax scaler "
      ],
      "execution_count": 64,
      "outputs": []
    },
    {
      "cell_type": "code",
      "metadata": {
        "id": "c1S1JO1EMjgX"
      },
      "source": [
        "import numpy as np"
      ],
      "execution_count": 65,
      "outputs": []
    },
    {
      "cell_type": "code",
      "metadata": {
        "colab": {
          "base_uri": "https://localhost:8080/"
        },
        "id": "kNm8NnD3MjgX",
        "outputId": "d924e5db-604f-457e-aa96-4c92b597017e"
      },
      "source": [
        "df1"
      ],
      "execution_count": 66,
      "outputs": [
        {
          "output_type": "execute_result",
          "data": {
            "text/plain": [
              "0       117.75\n",
              "1       118.88\n",
              "2       118.03\n",
              "3       117.81\n",
              "4       118.30\n",
              "         ...  \n",
              "1253    119.26\n",
              "1254    120.30\n",
              "1255    119.39\n",
              "1256    118.03\n",
              "1257    118.64\n",
              "Name: close, Length: 1258, dtype: float64"
            ]
          },
          "metadata": {
            "tags": []
          },
          "execution_count": 66
        }
      ]
    },
    {
      "cell_type": "markdown",
      "metadata": {
        "id": "17MNN1F4Neq9"
      },
      "source": [
        "## Scaling"
      ]
    },
    {
      "cell_type": "code",
      "metadata": {
        "id": "W0KEaLaRMjgX"
      },
      "source": [
        "from sklearn.preprocessing import MinMaxScaler\n",
        "scaler=MinMaxScaler(feature_range=(0,1))\n",
        "df1=scaler.fit_transform(np.array(df1).reshape(-1,1))"
      ],
      "execution_count": 67,
      "outputs": []
    },
    {
      "cell_type": "code",
      "metadata": {
        "colab": {
          "base_uri": "https://localhost:8080/"
        },
        "id": "JDzeG3t5MjgX",
        "outputId": "d2240488-3152-4b7a-d55c-664df64123b8"
      },
      "source": [
        "print(df1)"
      ],
      "execution_count": 68,
      "outputs": [
        {
          "output_type": "stream",
          "text": [
            "[[0.06592904]\n",
            " [0.06864702]\n",
            " [0.06660253]\n",
            " ...\n",
            " [0.06987372]\n",
            " [0.06660253]\n",
            " [0.06806975]]\n"
          ],
          "name": "stdout"
        }
      ]
    },
    {
      "cell_type": "code",
      "metadata": {
        "id": "SlV4ADozMjgY"
      },
      "source": [
        "##splitting dataset into train and test split\n",
        "training_size=int(len(df1)*0.65)\n",
        "test_size=len(df1)-training_size\n",
        "train_data,test_data=df1[0:training_size,:],df1[training_size:len(df1),:1]"
      ],
      "execution_count": 69,
      "outputs": []
    },
    {
      "cell_type": "code",
      "metadata": {
        "colab": {
          "base_uri": "https://localhost:8080/"
        },
        "id": "by0CAduaMjgY",
        "outputId": "ffcebaa7-6284-4b93-f802-4c4725ec1e38"
      },
      "source": [
        "training_size,test_size"
      ],
      "execution_count": 70,
      "outputs": [
        {
          "output_type": "execute_result",
          "data": {
            "text/plain": [
              "(817, 441)"
            ]
          },
          "metadata": {
            "tags": []
          },
          "execution_count": 70
        }
      ]
    },
    {
      "cell_type": "code",
      "metadata": {
        "colab": {
          "base_uri": "https://localhost:8080/"
        },
        "id": "WEj4UzVZMjgZ",
        "outputId": "c621ac68-2af1-4ef7-8f57-9882cc2a0075"
      },
      "source": [
        "train_data"
      ],
      "execution_count": 71,
      "outputs": [
        {
          "output_type": "execute_result",
          "data": {
            "text/plain": [
              "array([[0.06592904],\n",
              "       [0.06864702],\n",
              "       [0.06660253],\n",
              "       [0.06607336],\n",
              "       [0.06725195],\n",
              "       [0.06494287],\n",
              "       [0.06239327],\n",
              "       [0.05979555],\n",
              "       [0.06900782],\n",
              "       [0.06720385],\n",
              "       [0.06708358],\n",
              "       [0.06080577],\n",
              "       [0.06212868],\n",
              "       [0.05493686],\n",
              "       [0.05325316],\n",
              "       [0.04846663],\n",
              "       [0.05051112],\n",
              "       [0.04483464],\n",
              "       [0.03773903],\n",
              "       [0.0408659 ],\n",
              "       [0.04062538],\n",
              "       [0.04394468],\n",
              "       [0.04254961],\n",
              "       [0.03963921],\n",
              "       [0.04425737],\n",
              "       [0.04084185],\n",
              "       [0.03588695],\n",
              "       [0.03610343],\n",
              "       [0.02975346],\n",
              "       [0.02491882],\n",
              "       [0.01469633],\n",
              "       [0.01592303],\n",
              "       [0.01969934],\n",
              "       [0.02313891],\n",
              "       [0.01695731],\n",
              "       [0.02208058],\n",
              "       [0.01633193],\n",
              "       [0.01520144],\n",
              "       [0.01551413],\n",
              "       [0.01433554],\n",
              "       [0.02665063],\n",
              "       [0.02188815],\n",
              "       [0.02321106],\n",
              "       [0.0074083 ],\n",
              "       [0.00901984],\n",
              "       [0.01683704],\n",
              "       [0.01464823],\n",
              "       [0.00995791],\n",
              "       [0.0144558 ],\n",
              "       [0.01505713],\n",
              "       [0.00885147],\n",
              "       [0.01123271],\n",
              "       [0.01118461],\n",
              "       [0.0094528 ],\n",
              "       [0.00808178],\n",
              "       [0.00877931],\n",
              "       [0.01515334],\n",
              "       [0.01871317],\n",
              "       [0.01423933],\n",
              "       [0.01371016],\n",
              "       [0.01573061],\n",
              "       [0.01046302],\n",
              "       [0.01385448],\n",
              "       [0.01544197],\n",
              "       [0.01580277],\n",
              "       [0.0152736 ],\n",
              "       [0.02450992],\n",
              "       [0.02503909],\n",
              "       [0.02684305],\n",
              "       [0.03047505],\n",
              "       [0.02773301],\n",
              "       [0.02571257],\n",
              "       [0.02592904],\n",
              "       [0.02604931],\n",
              "       [0.02867108],\n",
              "       [0.02929645],\n",
              "       [0.03425135],\n",
              "       [0.03759471],\n",
              "       [0.03718581],\n",
              "       [0.03747444],\n",
              "       [0.03745039],\n",
              "       [0.03939868],\n",
              "       [0.03797956],\n",
              "       [0.03687312],\n",
              "       [0.03571858],\n",
              "       [0.04170776],\n",
              "       [0.04622971],\n",
              "       [0.04485869],\n",
              "       [0.04726398],\n",
              "       [0.04998196],\n",
              "       [0.04683103],\n",
              "       [0.04959711],\n",
              "       [0.04377631],\n",
              "       [0.04406494],\n",
              "       [0.04493085],\n",
              "       [0.04834636],\n",
              "       [0.05219483],\n",
              "       [0.05233915],\n",
              "       [0.04692724],\n",
              "       [0.0412267 ],\n",
              "       [0.03985568],\n",
              "       [0.04038485],\n",
              "       [0.03759471],\n",
              "       [0.03689717],\n",
              "       [0.035454  ],\n",
              "       [0.03369814],\n",
              "       [0.01799158],\n",
              "       [0.01079976],\n",
              "       [0.00817799],\n",
              "       [0.00793746],\n",
              "       [0.01164161],\n",
              "       [0.00926037],\n",
              "       [0.00697535],\n",
              "       [0.00572459],\n",
              "       [0.00589296],\n",
              "       [0.0074083 ],\n",
              "       [0.00521948],\n",
              "       [0.        ],\n",
              "       [0.00043295],\n",
              "       [0.00851473],\n",
              "       [0.00757667],\n",
              "       [0.01015033],\n",
              "       [0.00928443],\n",
              "       [0.01173782],\n",
              "       [0.01464823],\n",
              "       [0.018184  ],\n",
              "       [0.02232111],\n",
              "       [0.02422129],\n",
              "       [0.02407697],\n",
              "       [0.02289838],\n",
              "       [0.01953097],\n",
              "       [0.01775105],\n",
              "       [0.01823211],\n",
              "       [0.01993987],\n",
              "       [0.02090198],\n",
              "       [0.02068551],\n",
              "       [0.02239327],\n",
              "       [0.02042093],\n",
              "       [0.01683704],\n",
              "       [0.01712568],\n",
              "       [0.01635598],\n",
              "       [0.01734215],\n",
              "       [0.01200241],\n",
              "       [0.01144919],\n",
              "       [0.01339747],\n",
              "       [0.01253157],\n",
              "       [0.01385448],\n",
              "       [0.00736019],\n",
              "       [0.004089  ],\n",
              "       [0.0078172 ],\n",
              "       [0.00976548],\n",
              "       [0.01265183],\n",
              "       [0.01334937],\n",
              "       [0.01118461],\n",
              "       [0.01248346],\n",
              "       [0.01346963],\n",
              "       [0.01524955],\n",
              "       [0.01597114],\n",
              "       [0.01702946],\n",
              "       [0.01570655],\n",
              "       [0.02032471],\n",
              "       [0.02030066],\n",
              "       [0.02282622],\n",
              "       [0.02292243],\n",
              "       [0.02313891],\n",
              "       [0.0218641 ],\n",
              "       [0.02001203],\n",
              "       [0.01683704],\n",
              "       [0.0152255 ],\n",
              "       [0.03033073],\n",
              "       [0.03367408],\n",
              "       [0.0333614 ],\n",
              "       [0.03778713],\n",
              "       [0.03401082],\n",
              "       [0.03716176],\n",
              "       [0.03735418],\n",
              "       [0.0412267 ],\n",
              "       [0.04336741],\n",
              "       [0.04442574],\n",
              "       [0.04247745],\n",
              "       [0.04230908],\n",
              "       [0.0429104 ],\n",
              "       [0.04603728],\n",
              "       [0.04579675],\n",
              "       [0.04541191],\n",
              "       [0.04507517],\n",
              "       [0.04574865],\n",
              "       [0.04370415],\n",
              "       [0.04452195],\n",
              "       [0.04254961],\n",
              "       [0.04144317],\n",
              "       [0.03992784],\n",
              "       [0.03963921],\n",
              "       [0.03766687],\n",
              "       [0.0379074 ],\n",
              "       [0.03942273],\n",
              "       [0.04182802],\n",
              "       [0.04175586],\n",
              "       [0.04334336],\n",
              "       [0.03651233],\n",
              "       [0.03076368],\n",
              "       [0.0363199 ],\n",
              "       [0.04235719],\n",
              "       [0.0515454 ],\n",
              "       [0.06068551],\n",
              "       [0.05912207],\n",
              "       [0.05589898],\n",
              "       [0.05587492],\n",
              "       [0.05582682],\n",
              "       [0.05840048],\n",
              "       [0.05380637],\n",
              "       [0.05421527],\n",
              "       [0.05472038],\n",
              "       [0.05678894],\n",
              "       [0.05253157],\n",
              "       [0.05462417],\n",
              "       [0.05334937],\n",
              "       [0.05450391],\n",
              "       [0.05462417],\n",
              "       [0.05664462],\n",
              "       [0.05705352],\n",
              "       [0.06184005],\n",
              "       [0.06244137],\n",
              "       [0.06494287],\n",
              "       [0.06407697],\n",
              "       [0.06564041],\n",
              "       [0.06544799],\n",
              "       [0.06525556],\n",
              "       [0.06441371],\n",
              "       [0.06426939],\n",
              "       [0.06316296],\n",
              "       [0.06568851],\n",
              "       [0.06713169],\n",
              "       [0.06073361],\n",
              "       [0.05806374],\n",
              "       [0.05623572],\n",
              "       [0.05580277],\n",
              "       [0.05087192],\n",
              "       [0.05111245],\n",
              "       [0.04687913],\n",
              "       [0.0444979 ],\n",
              "       [0.0482742 ],\n",
              "       [0.04983764],\n",
              "       [0.04940469],\n",
              "       [0.04197234],\n",
              "       [0.04351173],\n",
              "       [0.03696933],\n",
              "       [0.04033674],\n",
              "       [0.04726398],\n",
              "       [0.04716777],\n",
              "       [0.04743235],\n",
              "       [0.05144919],\n",
              "       [0.05161756],\n",
              "       [0.05024654],\n",
              "       [0.05159351],\n",
              "       [0.05106434],\n",
              "       [0.05079976],\n",
              "       [0.04853879],\n",
              "       [0.04606133],\n",
              "       [0.0470475 ],\n",
              "       [0.04514732],\n",
              "       [0.04716777],\n",
              "       [0.04976548],\n",
              "       [0.05238725],\n",
              "       [0.05678894],\n",
              "       [0.0552255 ],\n",
              "       [0.0597715 ],\n",
              "       [0.0597715 ],\n",
              "       [0.06128683],\n",
              "       [0.06164762],\n",
              "       [0.06325917],\n",
              "       [0.06400481],\n",
              "       [0.06426939],\n",
              "       [0.06241732],\n",
              "       [0.06297054],\n",
              "       [0.06475045],\n",
              "       [0.06354781],\n",
              "       [0.06347565],\n",
              "       [0.06128683],\n",
              "       [0.06208058],\n",
              "       [0.06176789],\n",
              "       [0.06318701],\n",
              "       [0.06631389],\n",
              "       [0.06891161],\n",
              "       [0.06920024],\n",
              "       [0.07073963],\n",
              "       [0.06953698],\n",
              "       [0.06903187],\n",
              "       [0.07134095],\n",
              "       [0.0713169 ],\n",
              "       [0.07081179],\n",
              "       [0.07134095],\n",
              "       [0.07153337],\n",
              "       [0.07126879],\n",
              "       [0.0758629 ],\n",
              "       [0.07600722],\n",
              "       [0.07603127],\n",
              "       [0.07526158],\n",
              "       [0.07458809],\n",
              "       [0.09238725],\n",
              "       [0.09185809],\n",
              "       [0.093181  ],\n",
              "       [0.0960914 ],\n",
              "       [0.09907396],\n",
              "       [0.10030066],\n",
              "       [0.10121467],\n",
              "       [0.10049308],\n",
              "       [0.10330728],\n",
              "       [0.10746843],\n",
              "       [0.10864702],\n",
              "       [0.10825015],\n",
              "       [0.10915213],\n",
              "       [0.11150932],\n",
              "       [0.11249549],\n",
              "       [0.11110042],\n",
              "       [0.11141311],\n",
              "       [0.11206254],\n",
              "       [0.11220686],\n",
              "       [0.11894167],\n",
              "       [0.11694528],\n",
              "       [0.11891762],\n",
              "       [0.11785929],\n",
              "       [0.11829224],\n",
              "       [0.11704149],\n",
              "       [0.1162718 ],\n",
              "       [0.11737823],\n",
              "       [0.11752255],\n",
              "       [0.11701744],\n",
              "       [0.12055322],\n",
              "       [0.12110643],\n",
              "       [0.11942273],\n",
              "       [0.12295851],\n",
              "       [0.11906194],\n",
              "       [0.1228623 ],\n",
              "       [0.12165965],\n",
              "       [0.12098617],\n",
              "       [0.12156344],\n",
              "       [0.12858689],\n",
              "       [0.12935658],\n",
              "       [0.12889958],\n",
              "       [0.12825015],\n",
              "       [0.12834636],\n",
              "       [0.13092002],\n",
              "       [0.12911606],\n",
              "       [0.12825015],\n",
              "       [0.12748046],\n",
              "       [0.12707156],\n",
              "       [0.12336741],\n",
              "       [0.12377631],\n",
              "       [0.12197234],\n",
              "       [0.12384847],\n",
              "       [0.12233313],\n",
              "       [0.12108238],\n",
              "       [0.12531569],\n",
              "       [0.12490679],\n",
              "       [0.12820204],\n",
              "       [0.13034275],\n",
              "       [0.12829826],\n",
              "       [0.12856284],\n",
              "       [0.1282261 ],\n",
              "       [0.1352736 ],\n",
              "       [0.13751052],\n",
              "       [0.13642814],\n",
              "       [0.13515334],\n",
              "       [0.1409982 ],\n",
              "       [0.15073963],\n",
              "       [0.15309681],\n",
              "       [0.15134095],\n",
              "       [0.1530006 ],\n",
              "       [0.15817198],\n",
              "       [0.15720986],\n",
              "       [0.15665664],\n",
              "       [0.14410102],\n",
              "       [0.14960914],\n",
              "       [0.15085989],\n",
              "       [0.15309681],\n",
              "       [0.15263981],\n",
              "       [0.15153337],\n",
              "       [0.15280818],\n",
              "       [0.1521828 ],\n",
              "       [0.15232712],\n",
              "       [0.1501383 ],\n",
              "       [0.15114853],\n",
              "       [0.15660854],\n",
              "       [0.1529525 ],\n",
              "       [0.15420325],\n",
              "       [0.15641612],\n",
              "       [0.1555021 ],\n",
              "       [0.1410463 ],\n",
              "       [0.13248346],\n",
              "       [0.13529765],\n",
              "       [0.13185809],\n",
              "       [0.12976548],\n",
              "       [0.12490679],\n",
              "       [0.13469633],\n",
              "       [0.13149729],\n",
              "       [0.13356584],\n",
              "       [0.13298857],\n",
              "       [0.13455201],\n",
              "       [0.13344558],\n",
              "       [0.12841852],\n",
              "       [0.13346963],\n",
              "       [0.12829826],\n",
              "       [0.12911606],\n",
              "       [0.1278653 ],\n",
              "       [0.12928443],\n",
              "       [0.12601323],\n",
              "       [0.1295009 ],\n",
              "       [0.13161756],\n",
              "       [0.13274805],\n",
              "       [0.13325316],\n",
              "       [0.1381359 ],\n",
              "       [0.14119062],\n",
              "       [0.14244137],\n",
              "       [0.14369212],\n",
              "       [0.1459531 ],\n",
              "       [0.1443175 ],\n",
              "       [0.14414913],\n",
              "       [0.14852676],\n",
              "       [0.1500902 ],\n",
              "       [0.15182201],\n",
              "       [0.14484666],\n",
              "       [0.14229705],\n",
              "       [0.14044498],\n",
              "       [0.14361996],\n",
              "       [0.16067348],\n",
              "       [0.15689717],\n",
              "       [0.15886951],\n",
              "       [0.16469032],\n",
              "       [0.16774504],\n",
              "       [0.17010222],\n",
              "       [0.15629585],\n",
              "       [0.16149128],\n",
              "       [0.16719182],\n",
              "       [0.17140108],\n",
              "       [0.16983764],\n",
              "       [0.16240529],\n",
              "       [0.16153939],\n",
              "       [0.16084185],\n",
              "       [0.16702345],\n",
              "       [0.16750451],\n",
              "       [0.16579675],\n",
              "       [0.16721587],\n",
              "       [0.17108839],\n",
              "       [0.17455201],\n",
              "       [0.17561034],\n",
              "       [0.17717378],\n",
              "       [0.17729405],\n",
              "       [0.17255562],\n",
              "       [0.17214672],\n",
              "       [0.17058328],\n",
              "       [0.16425737],\n",
              "       [0.17116055],\n",
              "       [0.16962117],\n",
              "       [0.16671076],\n",
              "       [0.16341551],\n",
              "       [0.16726398],\n",
              "       [0.16435358],\n",
              "       [0.1644979 ],\n",
              "       [0.15809982],\n",
              "       [0.15165364],\n",
              "       [0.1480457 ],\n",
              "       [0.14482261],\n",
              "       [0.15105232],\n",
              "       [0.15367408],\n",
              "       [0.15138906],\n",
              "       [0.1534095 ],\n",
              "       [0.15266386],\n",
              "       [0.15427541],\n",
              "       [0.15187011],\n",
              "       [0.15646422],\n",
              "       [0.15624775],\n",
              "       [0.1575466 ],\n",
              "       [0.15769092],\n",
              "       [0.15925436],\n",
              "       [0.15793145],\n",
              "       [0.16031269],\n",
              "       [0.16726398],\n",
              "       [0.1686831 ],\n",
              "       [0.16697535],\n",
              "       [0.15788334],\n",
              "       [0.15853277],\n",
              "       [0.15834035],\n",
              "       [0.16057727],\n",
              "       [0.15891762],\n",
              "       [0.16132291],\n",
              "       [0.17488876],\n",
              "       [0.18371618],\n",
              "       [0.18929645],\n",
              "       [0.18412508],\n",
              "       [0.18705953],\n",
              "       [0.19761876],\n",
              "       [0.20182802],\n",
              "       [0.20317498],\n",
              "       [0.20661455],\n",
              "       [0.20574865],\n",
              "       [0.20283824],\n",
              "       [0.20115454],\n",
              "       [0.19482862],\n",
              "       [0.18939266],\n",
              "       [0.19425135],\n",
              "       [0.19196633],\n",
              "       [0.19155743],\n",
              "       [0.19915815],\n",
              "       [0.20353578],\n",
              "       [0.20355983],\n",
              "       [0.20144317],\n",
              "       [0.19898978],\n",
              "       [0.19035478],\n",
              "       [0.19605532],\n",
              "       [0.19413109],\n",
              "       [0.19112447],\n",
              "       [0.19073963],\n",
              "       [0.18922429],\n",
              "       [0.18996993],\n",
              "       [0.1900902 ],\n",
              "       [0.19802766],\n",
              "       [0.19569453],\n",
              "       [0.19706554],\n",
              "       [0.19694528],\n",
              "       [0.20115454],\n",
              "       [0.2070475 ],\n",
              "       [0.20252556],\n",
              "       [0.20206855],\n",
              "       [0.20365604],\n",
              "       [0.20365604],\n",
              "       [0.19297655],\n",
              "       [0.19304871],\n",
              "       [0.19420325],\n",
              "       [0.18975346],\n",
              "       [0.19704149],\n",
              "       [0.19696933],\n",
              "       [0.19889357],\n",
              "       [0.20363199],\n",
              "       [0.20206855],\n",
              "       [0.20202044],\n",
              "       [0.20192423],\n",
              "       [0.20430547],\n",
              "       [0.20865905],\n",
              "       [0.20649429],\n",
              "       [0.21349369],\n",
              "       [0.21387853],\n",
              "       [0.2119543 ],\n",
              "       [0.20844257],\n",
              "       [0.20853879],\n",
              "       [0.20175586],\n",
              "       [0.19427541],\n",
              "       [0.19523752],\n",
              "       [0.18669874],\n",
              "       [0.1843175 ],\n",
              "       [0.18542393],\n",
              "       [0.18626578],\n",
              "       [0.16875526],\n",
              "       [0.15911004],\n",
              "       [0.17484065],\n",
              "       [0.16644618],\n",
              "       [0.15588695],\n",
              "       [0.15891762],\n",
              "       [0.17407096],\n",
              "       [0.17799158],\n",
              "       [0.18527962],\n",
              "       [0.19879735],\n",
              "       [0.19745039],\n",
              "       [0.19605532],\n",
              "       [0.19417919],\n",
              "       [0.19761876],\n",
              "       [0.20483464],\n",
              "       [0.213181  ],\n",
              "       [0.21178593],\n",
              "       [0.2111365 ],\n",
              "       [0.20363199],\n",
              "       [0.20654239],\n",
              "       [0.20800962],\n",
              "       [0.20764883],\n",
              "       [0.20370415],\n",
              "       [0.20829826],\n",
              "       [0.21561034],\n",
              "       [0.21979555],\n",
              "       [0.21558629],\n",
              "       [0.21190619],\n",
              "       [0.2124113 ],\n",
              "       [0.21089597],\n",
              "       [0.20435358],\n",
              "       [0.20420926],\n",
              "       [0.19466025],\n",
              "       [0.18883945],\n",
              "       [0.17943476],\n",
              "       [0.19826819],\n",
              "       [0.18761275],\n",
              "       [0.18313891],\n",
              "       [0.18626578],\n",
              "       [0.18361996],\n",
              "       [0.18773301],\n",
              "       [0.19547805],\n",
              "       [0.19834035],\n",
              "       [0.18770896],\n",
              "       [0.1917258 ],\n",
              "       [0.19942273],\n",
              "       [0.19747444],\n",
              "       [0.20156344],\n",
              "       [0.20298256],\n",
              "       [0.20560433],\n",
              "       [0.21142514],\n",
              "       [0.21046302],\n",
              "       [0.19834035],\n",
              "       [0.18131088],\n",
              "       [0.18015634],\n",
              "       [0.17462417],\n",
              "       [0.17633193],\n",
              "       [0.17770295],\n",
              "       [0.17313289],\n",
              "       [0.18020445],\n",
              "       [0.18944077],\n",
              "       [0.2074083 ],\n",
              "       [0.20817799],\n",
              "       [0.22487072],\n",
              "       [0.22806975],\n",
              "       [0.23021046],\n",
              "       [0.2333614 ],\n",
              "       [0.23980758],\n",
              "       [0.2363199 ],\n",
              "       [0.23526158],\n",
              "       [0.23114853],\n",
              "       [0.23533373],\n",
              "       [0.23247144],\n",
              "       [0.23083584],\n",
              "       [0.23401082],\n",
              "       [0.23288034],\n",
              "       [0.23576669],\n",
              "       [0.23526158],\n",
              "       [0.23629585],\n",
              "       [0.23466025],\n",
              "       [0.23369814],\n",
              "       [0.2321828 ],\n",
              "       [0.24028863],\n",
              "       [0.24411305],\n",
              "       [0.24767288],\n",
              "       [0.24928443],\n",
              "       [0.24803367],\n",
              "       [0.24380036],\n",
              "       [0.24266987],\n",
              "       [0.24519543],\n",
              "       [0.24139507],\n",
              "       [0.2416356 ],\n",
              "       [0.23692123],\n",
              "       [0.2366807 ],\n",
              "       [0.22934456],\n",
              "       [0.23129284],\n",
              "       [0.22879134],\n",
              "       [0.22749248],\n",
              "       [0.22087793],\n",
              "       [0.22631389],\n",
              "       [0.22566446],\n",
              "       [0.22888755],\n",
              "       [0.22794949],\n",
              "       [0.23292844],\n",
              "       [0.22508719],\n",
              "       [0.22864702],\n",
              "       [0.23482862],\n",
              "       [0.24110643],\n",
              "       [0.24055322],\n",
              "       [0.23461215],\n",
              "       [0.24218882],\n",
              "       [0.2429104 ],\n",
              "       [0.24190018],\n",
              "       [0.24319904],\n",
              "       [0.24067348],\n",
              "       [0.24423331],\n",
              "       [0.24317498],\n",
              "       [0.24358388],\n",
              "       [0.24692724],\n",
              "       [0.25130487],\n",
              "       [0.24983764],\n",
              "       [0.24206855],\n",
              "       [0.23949489],\n",
              "       [0.2404089 ],\n",
              "       [0.26737222],\n",
              "       [0.28153939],\n",
              "       [0.28298256],\n",
              "       [0.28558028],\n",
              "       [0.2808659 ],\n",
              "       [0.28120265],\n",
              "       [0.28512327],\n",
              "       [0.28187613],\n",
              "       [0.28509922],\n",
              "       [0.28721587],\n",
              "       [0.28839447],\n",
              "       [0.29580277],\n",
              "       [0.30604931],\n",
              "       [0.30095009],\n",
              "       [0.29993987],\n",
              "       [0.29996392],\n",
              "       [0.30102225],\n",
              "       [0.30263379],\n",
              "       [0.30691521],\n",
              "       [0.31114853],\n",
              "       [0.31903788],\n",
              "       [0.32396873],\n",
              "       [0.33022249],\n",
              "       [0.33197835],\n",
              "       [0.32839447],\n",
              "       [0.31932652],\n",
              "       [0.31499699],\n",
              "       [0.30785328],\n",
              "       [0.32113049],\n",
              "       [0.31444378],\n",
              "       [0.32728803],\n",
              "       [0.32110643],\n",
              "       [0.3067709 ],\n",
              "       [0.3076368 ],\n",
              "       [0.30794949],\n",
              "       [0.31194227],\n",
              "       [0.30624173],\n",
              "       [0.31377029],\n",
              "       [0.3171377 ],\n",
              "       [0.31288034],\n",
              "       [0.32377631],\n",
              "       [0.32567649],\n",
              "       [0.32933253],\n",
              "       [0.33419122],\n",
              "       [0.34090198],\n",
              "       [0.33108839],\n",
              "       [0.32218882],\n",
              "       [0.32093806],\n",
              "       [0.32839447],\n",
              "       [0.30311485],\n",
              "       [0.29852075],\n",
              "       [0.31694528],\n",
              "       [0.30552014],\n",
              "       [0.31704149],\n",
              "       [0.31473241],\n",
              "       [0.30229705],\n",
              "       [0.31021046],\n",
              "       [0.31343355],\n",
              "       [0.31843656],\n",
              "       [0.30006013],\n",
              "       [0.31138906],\n",
              "       [0.30297054],\n",
              "       [0.29320505],\n",
              "       [0.29575466],\n",
              "       [0.30912808],\n",
              "       [0.31720986],\n",
              "       [0.28175586],\n",
              "       [0.2675887 ],\n",
              "       [0.27283223],\n",
              "       [0.28769693],\n",
              "       [0.28418521],\n",
              "       [0.27451594],\n",
              "       [0.24974143],\n",
              "       [0.24507517],\n",
              "       [0.23201443],\n",
              "       [0.24310283],\n",
              "       [0.24820204],\n",
              "       [0.22975346],\n",
              "       [0.20839447],\n",
              "       [0.20791341],\n",
              "       [0.19711365],\n",
              "       [0.20271798],\n",
              "       [0.20180397],\n",
              "       [0.21791942],\n",
              "       [0.21457607],\n",
              "       [0.21224293],\n",
              "       [0.22725195],\n",
              "       [0.20769693],\n",
              "       [0.20295851],\n",
              "       [0.18797354],\n",
              "       [0.19064342],\n",
              "       [0.18831028],\n",
              "       [0.18944077],\n",
              "       [0.19389056],\n",
              "       [0.18073361],\n",
              "       [0.17702946],\n",
              "       [0.18215274],\n",
              "       [0.16969333],\n",
              "       [0.15992784],\n",
              "       [0.14525556],\n",
              "       [0.13587492],\n",
              "       [0.16074564],\n",
              "       [0.15829224],\n",
              "       [0.15848467],\n",
              "       [0.16211666],\n",
              "       [0.16254961],\n",
              "       [0.12471437],\n",
              "       [0.13931449],\n",
              "       [0.13852075],\n",
              "       [0.14530367],\n",
              "       [0.15146121],\n",
              "       [0.15263981],\n",
              "       [0.14900782],\n",
              "       [0.1434997 ],\n",
              "       [0.15088394],\n",
              "       [0.15538184],\n",
              "       [0.15759471],\n",
              "       [0.15990379],\n",
              "       [0.15143716],\n",
              "       [0.15292844],\n",
              "       [0.14999399],\n",
              "       [0.16216476],\n",
              "       [0.15865304],\n",
              "       [0.15475646],\n",
              "       [0.1801804 ],\n",
              "       [0.18304269],\n",
              "       [0.18323512],\n",
              "       [0.19461215],\n",
              "       [0.20165965],\n",
              "       [0.20180397],\n",
              "       [0.19386651],\n",
              "       [0.1925917 ],\n",
              "       [0.19023452],\n",
              "       [0.19374624],\n",
              "       [0.19203848],\n",
              "       [0.19352977],\n",
              "       [0.19261575],\n",
              "       [0.19384245],\n",
              "       [0.19648827],\n",
              "       [0.19415514],\n",
              "       [0.19874925]])"
            ]
          },
          "metadata": {
            "tags": []
          },
          "execution_count": 71
        }
      ]
    },
    {
      "cell_type": "code",
      "metadata": {
        "id": "IgOmjDEOMjgZ"
      },
      "source": [
        "import numpy\n",
        "# convert an array of values into a dataset matrix\n",
        "def create_dataset(dataset, time_step=1):\n",
        "\tdataX, dataY = [], []\n",
        "\tfor i in range(len(dataset)-time_step-1):\n",
        "\t\ta = dataset[i:(i+time_step), 0]   ###i=0, 0,1,2,3-----99   100 \n",
        "\t\tdataX.append(a)\n",
        "\t\tdataY.append(dataset[i + time_step, 0])\n",
        "\treturn numpy.array(dataX), numpy.array(dataY)"
      ],
      "execution_count": 72,
      "outputs": []
    },
    {
      "cell_type": "code",
      "metadata": {
        "id": "g18HyAZjMjgZ"
      },
      "source": [
        "# reshape into X=t,t+1,t+2,t+3 and Y=t+4\n",
        "time_step = 100\n",
        "X_train, y_train = create_dataset(train_data, time_step)\n",
        "X_test, ytest = create_dataset(test_data, time_step)"
      ],
      "execution_count": 73,
      "outputs": []
    },
    {
      "cell_type": "code",
      "metadata": {
        "colab": {
          "base_uri": "https://localhost:8080/"
        },
        "id": "Pz7iOP2JMjgZ",
        "outputId": "a0a78859-e9e4-434d-d832-0fc4a7a301e4"
      },
      "source": [
        "print(X_train.shape), print(y_train.shape)"
      ],
      "execution_count": 74,
      "outputs": [
        {
          "output_type": "stream",
          "text": [
            "(716, 100)\n",
            "(716,)\n"
          ],
          "name": "stdout"
        },
        {
          "output_type": "execute_result",
          "data": {
            "text/plain": [
              "(None, None)"
            ]
          },
          "metadata": {
            "tags": []
          },
          "execution_count": 74
        }
      ]
    },
    {
      "cell_type": "code",
      "metadata": {
        "colab": {
          "base_uri": "https://localhost:8080/"
        },
        "id": "rEvcgriAMjgZ",
        "outputId": "a70515fe-35f1-4504-b231-a9b204dcb416"
      },
      "source": [
        "print(X_test.shape), print(ytest.shape)"
      ],
      "execution_count": 75,
      "outputs": [
        {
          "output_type": "stream",
          "text": [
            "(340, 100)\n",
            "(340,)\n"
          ],
          "name": "stdout"
        },
        {
          "output_type": "execute_result",
          "data": {
            "text/plain": [
              "(None, None)"
            ]
          },
          "metadata": {
            "tags": []
          },
          "execution_count": 75
        }
      ]
    },
    {
      "cell_type": "code",
      "metadata": {
        "id": "o33PuCnSMjgZ"
      },
      "source": [
        "# reshape input to be [samples, time steps, features] which is required for LSTM\n",
        "X_train =X_train.reshape(X_train.shape[0],X_train.shape[1] , 1)\n",
        "X_test = X_test.reshape(X_test.shape[0],X_test.shape[1] , 1)"
      ],
      "execution_count": 76,
      "outputs": []
    },
    {
      "cell_type": "markdown",
      "metadata": {
        "id": "cczv9r-8Ny4Z"
      },
      "source": [
        "LSTM MODEL"
      ]
    },
    {
      "cell_type": "code",
      "metadata": {
        "id": "2buThIwYMjga"
      },
      "source": [
        "### Create the Stacked LSTM model\n",
        "from tensorflow.keras.models import Sequential\n",
        "from tensorflow.keras.layers import Dense\n",
        "from tensorflow.keras.layers import LSTM"
      ],
      "execution_count": 77,
      "outputs": []
    },
    {
      "cell_type": "code",
      "metadata": {
        "id": "UXwF7KO5Mjga"
      },
      "source": [
        "model=Sequential()\n",
        "model.add(LSTM(50,return_sequences=True,input_shape=(100,1)))\n",
        "model.add(LSTM(50,return_sequences=True))\n",
        "model.add(LSTM(50))\n",
        "model.add(Dense(1))\n",
        "model.compile(loss='mean_squared_error',optimizer='adam')\n"
      ],
      "execution_count": 78,
      "outputs": []
    },
    {
      "cell_type": "code",
      "metadata": {
        "colab": {
          "base_uri": "https://localhost:8080/"
        },
        "id": "YJjN5XYzMjga",
        "outputId": "77e4f20e-4df3-47e2-ea69-c3db14e5a11c"
      },
      "source": [
        "model.summary()"
      ],
      "execution_count": 79,
      "outputs": [
        {
          "output_type": "stream",
          "text": [
            "Model: \"sequential_1\"\n",
            "_________________________________________________________________\n",
            "Layer (type)                 Output Shape              Param #   \n",
            "=================================================================\n",
            "lstm_3 (LSTM)                (None, 100, 50)           10400     \n",
            "_________________________________________________________________\n",
            "lstm_4 (LSTM)                (None, 100, 50)           20200     \n",
            "_________________________________________________________________\n",
            "lstm_5 (LSTM)                (None, 50)                20200     \n",
            "_________________________________________________________________\n",
            "dense_1 (Dense)              (None, 1)                 51        \n",
            "=================================================================\n",
            "Total params: 50,851\n",
            "Trainable params: 50,851\n",
            "Non-trainable params: 0\n",
            "_________________________________________________________________\n"
          ],
          "name": "stdout"
        }
      ]
    },
    {
      "cell_type": "code",
      "metadata": {
        "colab": {
          "base_uri": "https://localhost:8080/"
        },
        "id": "ZNhF5Tz9Mjga",
        "outputId": "753fc39f-27b6-441e-d030-8b3d349511a9"
      },
      "source": [
        "model.summary()"
      ],
      "execution_count": 80,
      "outputs": [
        {
          "output_type": "stream",
          "text": [
            "Model: \"sequential_1\"\n",
            "_________________________________________________________________\n",
            "Layer (type)                 Output Shape              Param #   \n",
            "=================================================================\n",
            "lstm_3 (LSTM)                (None, 100, 50)           10400     \n",
            "_________________________________________________________________\n",
            "lstm_4 (LSTM)                (None, 100, 50)           20200     \n",
            "_________________________________________________________________\n",
            "lstm_5 (LSTM)                (None, 50)                20200     \n",
            "_________________________________________________________________\n",
            "dense_1 (Dense)              (None, 1)                 51        \n",
            "=================================================================\n",
            "Total params: 50,851\n",
            "Trainable params: 50,851\n",
            "Non-trainable params: 0\n",
            "_________________________________________________________________\n"
          ],
          "name": "stdout"
        }
      ]
    },
    {
      "cell_type": "code",
      "metadata": {
        "colab": {
          "base_uri": "https://localhost:8080/"
        },
        "id": "LikOJ0bzMjga",
        "outputId": "c0888d88-55a8-4b3c-d309-6f5d9a5e4a01"
      },
      "source": [
        "model.fit(X_train,y_train,validation_data=(X_test,ytest),epochs=100,batch_size=64,verbose=1)"
      ],
      "execution_count": 81,
      "outputs": [
        {
          "output_type": "stream",
          "text": [
            "Epoch 1/100\n",
            "12/12 [==============================] - 3s 260ms/step - loss: 0.0089 - val_loss: 0.0603\n",
            "Epoch 2/100\n",
            "12/12 [==============================] - 2s 168ms/step - loss: 0.0024 - val_loss: 0.0222\n",
            "Epoch 3/100\n",
            "12/12 [==============================] - 2s 171ms/step - loss: 8.0161e-04 - val_loss: 0.0212\n",
            "Epoch 4/100\n",
            "12/12 [==============================] - 2s 173ms/step - loss: 6.1242e-04 - val_loss: 0.0206\n",
            "Epoch 5/100\n",
            "12/12 [==============================] - 2s 171ms/step - loss: 4.6542e-04 - val_loss: 0.0216\n",
            "Epoch 6/100\n",
            "12/12 [==============================] - 2s 173ms/step - loss: 4.0091e-04 - val_loss: 0.0212\n",
            "Epoch 7/100\n",
            "12/12 [==============================] - 2s 174ms/step - loss: 4.1037e-04 - val_loss: 0.0198\n",
            "Epoch 8/100\n",
            "12/12 [==============================] - 2s 169ms/step - loss: 3.6330e-04 - val_loss: 0.0187\n",
            "Epoch 9/100\n",
            "12/12 [==============================] - 2s 170ms/step - loss: 3.5050e-04 - val_loss: 0.0190\n",
            "Epoch 10/100\n",
            "12/12 [==============================] - 2s 183ms/step - loss: 3.4273e-04 - val_loss: 0.0187\n",
            "Epoch 11/100\n",
            "12/12 [==============================] - 2s 182ms/step - loss: 3.2484e-04 - val_loss: 0.0184\n",
            "Epoch 12/100\n",
            "12/12 [==============================] - 2s 176ms/step - loss: 3.1360e-04 - val_loss: 0.0177\n",
            "Epoch 13/100\n",
            "12/12 [==============================] - 2s 172ms/step - loss: 3.0428e-04 - val_loss: 0.0175\n",
            "Epoch 14/100\n",
            "12/12 [==============================] - 2s 184ms/step - loss: 3.1055e-04 - val_loss: 0.0177\n",
            "Epoch 15/100\n",
            "12/12 [==============================] - 2s 181ms/step - loss: 2.9870e-04 - val_loss: 0.0161\n",
            "Epoch 16/100\n",
            "12/12 [==============================] - 2s 173ms/step - loss: 2.8114e-04 - val_loss: 0.0157\n",
            "Epoch 17/100\n",
            "12/12 [==============================] - 2s 180ms/step - loss: 2.6081e-04 - val_loss: 0.0151\n",
            "Epoch 18/100\n",
            "12/12 [==============================] - 2s 176ms/step - loss: 2.5118e-04 - val_loss: 0.0145\n",
            "Epoch 19/100\n",
            "12/12 [==============================] - 2s 175ms/step - loss: 2.4614e-04 - val_loss: 0.0148\n",
            "Epoch 20/100\n",
            "12/12 [==============================] - 2s 186ms/step - loss: 2.3404e-04 - val_loss: 0.0138\n",
            "Epoch 21/100\n",
            "12/12 [==============================] - 2s 184ms/step - loss: 2.3229e-04 - val_loss: 0.0146\n",
            "Epoch 22/100\n",
            "12/12 [==============================] - 2s 175ms/step - loss: 2.2509e-04 - val_loss: 0.0157\n",
            "Epoch 23/100\n",
            "12/12 [==============================] - 2s 178ms/step - loss: 2.2938e-04 - val_loss: 0.0156\n",
            "Epoch 24/100\n",
            "12/12 [==============================] - 2s 189ms/step - loss: 1.9808e-04 - val_loss: 0.0146\n",
            "Epoch 25/100\n",
            "12/12 [==============================] - 2s 186ms/step - loss: 2.2301e-04 - val_loss: 0.0163\n",
            "Epoch 26/100\n",
            "12/12 [==============================] - 2s 179ms/step - loss: 1.9314e-04 - val_loss: 0.0153\n",
            "Epoch 27/100\n",
            "12/12 [==============================] - 2s 174ms/step - loss: 1.9132e-04 - val_loss: 0.0158\n",
            "Epoch 28/100\n",
            "12/12 [==============================] - 2s 191ms/step - loss: 1.9788e-04 - val_loss: 0.0155\n",
            "Epoch 29/100\n",
            "12/12 [==============================] - 2s 183ms/step - loss: 1.9144e-04 - val_loss: 0.0158\n",
            "Epoch 30/100\n",
            "12/12 [==============================] - 2s 187ms/step - loss: 1.8404e-04 - val_loss: 0.0168\n",
            "Epoch 31/100\n",
            "12/12 [==============================] - 2s 181ms/step - loss: 1.8717e-04 - val_loss: 0.0168\n",
            "Epoch 32/100\n",
            "12/12 [==============================] - 2s 193ms/step - loss: 1.8792e-04 - val_loss: 0.0172\n",
            "Epoch 33/100\n",
            "12/12 [==============================] - 2s 186ms/step - loss: 2.2442e-04 - val_loss: 0.0171\n",
            "Epoch 34/100\n",
            "12/12 [==============================] - 2s 188ms/step - loss: 1.9704e-04 - val_loss: 0.0179\n",
            "Epoch 35/100\n",
            "12/12 [==============================] - 2s 176ms/step - loss: 1.7922e-04 - val_loss: 0.0172\n",
            "Epoch 36/100\n",
            "12/12 [==============================] - 2s 189ms/step - loss: 1.9075e-04 - val_loss: 0.0181\n",
            "Epoch 37/100\n",
            "12/12 [==============================] - 2s 189ms/step - loss: 1.7936e-04 - val_loss: 0.0164\n",
            "Epoch 38/100\n",
            "12/12 [==============================] - 2s 187ms/step - loss: 1.8468e-04 - val_loss: 0.0169\n",
            "Epoch 39/100\n",
            "12/12 [==============================] - 2s 199ms/step - loss: 1.8018e-04 - val_loss: 0.0180\n",
            "Epoch 40/100\n",
            "12/12 [==============================] - 2s 188ms/step - loss: 1.8055e-04 - val_loss: 0.0167\n",
            "Epoch 41/100\n",
            "12/12 [==============================] - 2s 190ms/step - loss: 1.8876e-04 - val_loss: 0.0177\n",
            "Epoch 42/100\n",
            "12/12 [==============================] - 2s 178ms/step - loss: 1.9256e-04 - val_loss: 0.0178\n",
            "Epoch 43/100\n",
            "12/12 [==============================] - 2s 178ms/step - loss: 1.7662e-04 - val_loss: 0.0180\n",
            "Epoch 44/100\n",
            "12/12 [==============================] - 2s 175ms/step - loss: 1.8141e-04 - val_loss: 0.0184\n",
            "Epoch 45/100\n",
            "12/12 [==============================] - 2s 184ms/step - loss: 1.7622e-04 - val_loss: 0.0190\n",
            "Epoch 46/100\n",
            "12/12 [==============================] - 2s 183ms/step - loss: 1.5566e-04 - val_loss: 0.0179\n",
            "Epoch 47/100\n",
            "12/12 [==============================] - 2s 185ms/step - loss: 1.5365e-04 - val_loss: 0.0195\n",
            "Epoch 48/100\n",
            "12/12 [==============================] - 2s 179ms/step - loss: 1.5145e-04 - val_loss: 0.0206\n",
            "Epoch 49/100\n",
            "12/12 [==============================] - 2s 182ms/step - loss: 1.5292e-04 - val_loss: 0.0199\n",
            "Epoch 50/100\n",
            "12/12 [==============================] - 2s 185ms/step - loss: 1.5074e-04 - val_loss: 0.0239\n",
            "Epoch 51/100\n",
            "12/12 [==============================] - 2s 176ms/step - loss: 1.5606e-04 - val_loss: 0.0196\n",
            "Epoch 52/100\n",
            "12/12 [==============================] - 2s 184ms/step - loss: 1.6666e-04 - val_loss: 0.0214\n",
            "Epoch 53/100\n",
            "12/12 [==============================] - 2s 188ms/step - loss: 1.5910e-04 - val_loss: 0.0263\n",
            "Epoch 54/100\n",
            "12/12 [==============================] - 2s 178ms/step - loss: 1.6228e-04 - val_loss: 0.0214\n",
            "Epoch 55/100\n",
            "12/12 [==============================] - 2s 181ms/step - loss: 1.4767e-04 - val_loss: 0.0201\n",
            "Epoch 56/100\n",
            "12/12 [==============================] - 2s 183ms/step - loss: 1.4638e-04 - val_loss: 0.0202\n",
            "Epoch 57/100\n",
            "12/12 [==============================] - 2s 182ms/step - loss: 1.4557e-04 - val_loss: 0.0240\n",
            "Epoch 58/100\n",
            "12/12 [==============================] - 2s 179ms/step - loss: 1.4681e-04 - val_loss: 0.0228\n",
            "Epoch 59/100\n",
            "12/12 [==============================] - 2s 177ms/step - loss: 1.3999e-04 - val_loss: 0.0225\n",
            "Epoch 60/100\n",
            "12/12 [==============================] - 2s 178ms/step - loss: 1.4662e-04 - val_loss: 0.0231\n",
            "Epoch 61/100\n",
            "12/12 [==============================] - 2s 179ms/step - loss: 1.4111e-04 - val_loss: 0.0193\n",
            "Epoch 62/100\n",
            "12/12 [==============================] - 2s 183ms/step - loss: 1.4574e-04 - val_loss: 0.0227\n",
            "Epoch 63/100\n",
            "12/12 [==============================] - 2s 181ms/step - loss: 1.3724e-04 - val_loss: 0.0227\n",
            "Epoch 64/100\n",
            "12/12 [==============================] - 2s 184ms/step - loss: 1.3083e-04 - val_loss: 0.0227\n",
            "Epoch 65/100\n",
            "12/12 [==============================] - 2s 181ms/step - loss: 1.2965e-04 - val_loss: 0.0243\n",
            "Epoch 66/100\n",
            "12/12 [==============================] - 2s 180ms/step - loss: 1.3052e-04 - val_loss: 0.0246\n",
            "Epoch 67/100\n",
            "12/12 [==============================] - 2s 189ms/step - loss: 1.3892e-04 - val_loss: 0.0217\n",
            "Epoch 68/100\n",
            "12/12 [==============================] - 2s 177ms/step - loss: 1.3733e-04 - val_loss: 0.0182\n",
            "Epoch 69/100\n",
            "12/12 [==============================] - 2s 176ms/step - loss: 1.3299e-04 - val_loss: 0.0193\n",
            "Epoch 70/100\n",
            "12/12 [==============================] - 2s 189ms/step - loss: 1.2309e-04 - val_loss: 0.0186\n",
            "Epoch 71/100\n",
            "12/12 [==============================] - 2s 181ms/step - loss: 1.3060e-04 - val_loss: 0.0232\n",
            "Epoch 72/100\n",
            "12/12 [==============================] - 2s 178ms/step - loss: 1.2505e-04 - val_loss: 0.0195\n",
            "Epoch 73/100\n",
            "12/12 [==============================] - 2s 189ms/step - loss: 1.2515e-04 - val_loss: 0.0262\n",
            "Epoch 74/100\n",
            "12/12 [==============================] - 2s 187ms/step - loss: 1.2921e-04 - val_loss: 0.0168\n",
            "Epoch 75/100\n",
            "12/12 [==============================] - 2s 180ms/step - loss: 1.2080e-04 - val_loss: 0.0204\n",
            "Epoch 76/100\n",
            "12/12 [==============================] - 2s 184ms/step - loss: 1.2664e-04 - val_loss: 0.0184\n",
            "Epoch 77/100\n",
            "12/12 [==============================] - 2s 181ms/step - loss: 1.3251e-04 - val_loss: 0.0162\n",
            "Epoch 78/100\n",
            "12/12 [==============================] - 2s 179ms/step - loss: 1.1876e-04 - val_loss: 0.0212\n",
            "Epoch 79/100\n",
            "12/12 [==============================] - 2s 178ms/step - loss: 1.2461e-04 - val_loss: 0.0160\n",
            "Epoch 80/100\n",
            "12/12 [==============================] - 2s 183ms/step - loss: 1.2646e-04 - val_loss: 0.0228\n",
            "Epoch 81/100\n",
            "12/12 [==============================] - 2s 189ms/step - loss: 1.1525e-04 - val_loss: 0.0151\n",
            "Epoch 82/100\n",
            "12/12 [==============================] - 2s 189ms/step - loss: 1.2292e-04 - val_loss: 0.0149\n",
            "Epoch 83/100\n",
            "12/12 [==============================] - 2s 181ms/step - loss: 1.1134e-04 - val_loss: 0.0210\n",
            "Epoch 84/100\n",
            "12/12 [==============================] - 2s 182ms/step - loss: 1.2313e-04 - val_loss: 0.0156\n",
            "Epoch 85/100\n",
            "12/12 [==============================] - 2s 187ms/step - loss: 1.0672e-04 - val_loss: 0.0184\n",
            "Epoch 86/100\n",
            "12/12 [==============================] - 2s 184ms/step - loss: 1.0860e-04 - val_loss: 0.0165\n",
            "Epoch 87/100\n",
            "12/12 [==============================] - 2s 186ms/step - loss: 1.1894e-04 - val_loss: 0.0157\n",
            "Epoch 88/100\n",
            "12/12 [==============================] - 2s 188ms/step - loss: 1.0617e-04 - val_loss: 0.0163\n",
            "Epoch 89/100\n",
            "12/12 [==============================] - 2s 194ms/step - loss: 1.3006e-04 - val_loss: 0.0227\n",
            "Epoch 90/100\n",
            "12/12 [==============================] - 2s 178ms/step - loss: 1.3313e-04 - val_loss: 0.0120\n",
            "Epoch 91/100\n",
            "12/12 [==============================] - 2s 181ms/step - loss: 1.0339e-04 - val_loss: 0.0139\n",
            "Epoch 92/100\n",
            "12/12 [==============================] - 2s 187ms/step - loss: 1.0695e-04 - val_loss: 0.0138\n",
            "Epoch 93/100\n",
            "12/12 [==============================] - 2s 189ms/step - loss: 1.1029e-04 - val_loss: 0.0150\n",
            "Epoch 94/100\n",
            "12/12 [==============================] - 2s 192ms/step - loss: 1.0435e-04 - val_loss: 0.0105\n",
            "Epoch 95/100\n",
            "12/12 [==============================] - 2s 185ms/step - loss: 1.1409e-04 - val_loss: 0.0135\n",
            "Epoch 96/100\n",
            "12/12 [==============================] - 2s 178ms/step - loss: 1.0264e-04 - val_loss: 0.0135\n",
            "Epoch 97/100\n",
            "12/12 [==============================] - 2s 177ms/step - loss: 1.0403e-04 - val_loss: 0.0116\n",
            "Epoch 98/100\n",
            "12/12 [==============================] - 2s 181ms/step - loss: 1.2107e-04 - val_loss: 0.0118\n",
            "Epoch 99/100\n",
            "12/12 [==============================] - 2s 182ms/step - loss: 9.3093e-05 - val_loss: 0.0131\n",
            "Epoch 100/100\n",
            "12/12 [==============================] - 2s 180ms/step - loss: 1.0620e-04 - val_loss: 0.0119\n"
          ],
          "name": "stdout"
        },
        {
          "output_type": "execute_result",
          "data": {
            "text/plain": [
              "<tensorflow.python.keras.callbacks.History at 0x7fca5950aa58>"
            ]
          },
          "metadata": {
            "tags": []
          },
          "execution_count": 81
        }
      ]
    },
    {
      "cell_type": "code",
      "metadata": {
        "id": "cQfyp8xNMjgb"
      },
      "source": [
        "import tensorflow as tf"
      ],
      "execution_count": 82,
      "outputs": []
    },
    {
      "cell_type": "code",
      "metadata": {
        "colab": {
          "base_uri": "https://localhost:8080/",
          "height": 35
        },
        "id": "juvLSc_8Mjgb",
        "outputId": "10915e60-fec7-40f7-ad27-bcc0e05da27e"
      },
      "source": [
        "tf.__version__"
      ],
      "execution_count": 83,
      "outputs": [
        {
          "output_type": "execute_result",
          "data": {
            "application/vnd.google.colaboratory.intrinsic+json": {
              "type": "string"
            },
            "text/plain": [
              "'2.3.0'"
            ]
          },
          "metadata": {
            "tags": []
          },
          "execution_count": 83
        }
      ]
    },
    {
      "cell_type": "code",
      "metadata": {
        "id": "VNUv3OP2Mjgb"
      },
      "source": [
        "### Lets Do the prediction and check performance metrics\n",
        "train_predict=model.predict(X_train)\n",
        "test_predict=model.predict(X_test)"
      ],
      "execution_count": 84,
      "outputs": []
    },
    {
      "cell_type": "code",
      "metadata": {
        "id": "AUMXV0KUMjgb"
      },
      "source": [
        "##Transformback to original form\n",
        "train_predict=scaler.inverse_transform(train_predict)\n",
        "test_predict=scaler.inverse_transform(test_predict)"
      ],
      "execution_count": 85,
      "outputs": []
    },
    {
      "cell_type": "code",
      "metadata": {
        "colab": {
          "base_uri": "https://localhost:8080/"
        },
        "id": "hjCD6UxKMjgb",
        "outputId": "e45e021e-421a-49c4-845f-be22e68a97e4"
      },
      "source": [
        "### Calculate RMSE performance metrics\n",
        "import math\n",
        "from sklearn.metrics import mean_squared_error\n",
        "math.sqrt(mean_squared_error(y_train,train_predict))"
      ],
      "execution_count": 86,
      "outputs": [
        {
          "output_type": "execute_result",
          "data": {
            "text/plain": [
              "157.17235147760363"
            ]
          },
          "metadata": {
            "tags": []
          },
          "execution_count": 86
        }
      ]
    },
    {
      "cell_type": "code",
      "metadata": {
        "colab": {
          "base_uri": "https://localhost:8080/"
        },
        "id": "drDi3WJTMjgb",
        "outputId": "17b53222-1731-4e26-90a9-78e66263081c"
      },
      "source": [
        "### Test Data RMSE\n",
        "math.sqrt(mean_squared_error(ytest,test_predict))"
      ],
      "execution_count": 87,
      "outputs": [
        {
          "output_type": "execute_result",
          "data": {
            "text/plain": [
              "295.67771930427904"
            ]
          },
          "metadata": {
            "tags": []
          },
          "execution_count": 87
        }
      ]
    },
    {
      "cell_type": "code",
      "metadata": {
        "colab": {
          "base_uri": "https://localhost:8080/",
          "height": 269
        },
        "id": "xTYNxChjMjgc",
        "outputId": "e2a62100-03cd-4f2d-ce24-a5905eb4d0a2"
      },
      "source": [
        "### Plotting \n",
        "# shift train predictions for plotting\n",
        "look_back=100\n",
        "trainPredictPlot = numpy.empty_like(df1)\n",
        "trainPredictPlot[:, :] = np.nan\n",
        "trainPredictPlot[look_back:len(train_predict)+look_back, :] = train_predict\n",
        "# shift test predictions for plotting\n",
        "testPredictPlot = numpy.empty_like(df1)\n",
        "testPredictPlot[:, :] = numpy.nan\n",
        "testPredictPlot[len(train_predict)+(look_back*2)+1:len(df1)-1, :] = test_predict\n",
        "# plot baseline and predictions\n",
        "plt.plot(scaler.inverse_transform(df1))\n",
        "plt.plot(trainPredictPlot)\n",
        "plt.plot(testPredictPlot)\n",
        "plt.show()"
      ],
      "execution_count": 88,
      "outputs": [
        {
          "output_type": "display_data",
          "data": {
            "image/png": "[encoded data removed]",
            "text/plain": [
              "<Figure size 432x288 with 1 Axes>"
            ]
          },
          "metadata": {
            "tags": [],
            "needs_background": "light"
          }
        }
      ]
    },
    {
      "cell_type": "code",
      "metadata": {
        "colab": {
          "base_uri": "https://localhost:8080/"
        },
        "id": "4hQNM5tFMjgc",
        "outputId": "81380484-1781-4758-f5e6-1f5b19171c3f"
      },
      "source": [
        "len(test_data)"
      ],
      "execution_count": 89,
      "outputs": [
        {
          "output_type": "execute_result",
          "data": {
            "text/plain": [
              "441"
            ]
          },
          "metadata": {
            "tags": []
          },
          "execution_count": 89
        }
      ]
    },
    {
      "cell_type": "code",
      "metadata": {
        "colab": {
          "base_uri": "https://localhost:8080/"
        },
        "id": "bsCrAGKHMjgc",
        "outputId": "6d7db712-1e58-4b6e-e552-e2f398c129ce"
      },
      "source": [
        "x_input=test_data[341:].reshape(1,-1)\n",
        "x_input.shape\n"
      ],
      "execution_count": 90,
      "outputs": [
        {
          "output_type": "execute_result",
          "data": {
            "text/plain": [
              "(1, 100)"
            ]
          },
          "metadata": {
            "tags": []
          },
          "execution_count": 90
        }
      ]
    },
    {
      "cell_type": "code",
      "metadata": {
        "id": "TYBWRsiQMjgc"
      },
      "source": [
        "temp_input=list(x_input)\n",
        "temp_input=temp_input[0].tolist()"
      ],
      "execution_count": 91,
      "outputs": []
    },
    {
      "cell_type": "code",
      "metadata": {
        "colab": {
          "base_uri": "https://localhost:8080/"
        },
        "id": "CIrZebgdMjgc",
        "outputId": "6f870558-6481-4ba2-d6d5-232a6d5b6fda"
      },
      "source": [
        "temp_input"
      ],
      "execution_count": 92,
      "outputs": [
        {
          "output_type": "execute_result",
          "data": {
            "text/plain": [
              "[0.6584966927239928,\n",
              " 0.6584966927239928,\n",
              " 0.6819242333132893,\n",
              " 0.6791340950090199,\n",
              " 0.7000120264582081,\n",
              " 0.7039567047504509,\n",
              " 0.7055682501503309,\n",
              " 0.7013108839446784,\n",
              " 0.7165123271196634,\n",
              " 0.7229344558027659,\n",
              " 0.7113650030066145,\n",
              " 0.7094888755261575,\n",
              " 0.7290198436560433,\n",
              " 0.7159591100420926,\n",
              " 0.7185808779314491,\n",
              " 0.6759831629585087,\n",
              " 0.673770294648226,\n",
              " 0.6948887552615755,\n",
              " 0.6799037883343355,\n",
              " 0.6971016235718581,\n",
              " 0.7081659651232712,\n",
              " 0.8050511124473845,\n",
              " 0.830811785929044,\n",
              " 0.8378111846061336,\n",
              " 0.841635598316296,\n",
              " 0.8785808779314492,\n",
              " 0.8517378232110644,\n",
              " 0.8672760072158752,\n",
              " 0.8350210463018641,\n",
              " 0.8699939867708961,\n",
              " 0.8892363199037885,\n",
              " 0.8882501503307276,\n",
              " 0.8853638003607938,\n",
              " 0.89455201443175,\n",
              " 0.8959470835838845,\n",
              " 0.9206494287432352,\n",
              " 0.9792904389657247,\n",
              " 0.9936019242333134,\n",
              " 0.9836680697534577,\n",
              " 1.0,\n",
              " 0.9854479855682503,\n",
              " 0.983499699338545,\n",
              " 0.09308478653036678,\n",
              " 0.10544798556825014,\n",
              " 0.09876127480457003,\n",
              " 0.07345760673481655,\n",
              " 0.07365003006614551,\n",
              " 0.05407095610342749,\n",
              " 0.06489476849067943,\n",
              " 0.055682501503307225,\n",
              " 0.052098616957306054,\n",
              " 0.0601683704149128,\n",
              " 0.06061334936861096,\n",
              " 0.05241130487071555,\n",
              " 0.04810583283223091,\n",
              " 0.03968731208659049,\n",
              " 0.04748045700541187,\n",
              " 0.05164161154539987,\n",
              " 0.04036079374624174,\n",
              " 0.04300661455201443,\n",
              " 0.05277209861695731,\n",
              " 0.05921828021647624,\n",
              " 0.05712567648827421,\n",
              " 0.06126277811184605,\n",
              " 0.06361996392062536,\n",
              " 0.05455201443174984,\n",
              " 0.062922429344558,\n",
              " 0.05488875526157544,\n",
              " 0.059506915213469624,\n",
              " 0.059242333132892344,\n",
              " 0.06405291641611544,\n",
              " 0.08192423331328924,\n",
              " 0.07398677089597111,\n",
              " 0.07420324714371618,\n",
              " 0.07304870715574258,\n",
              " 0.06898376428141911,\n",
              " 0.061671677690920024,\n",
              " 0.06535177390258567,\n",
              " 0.06381238725195432,\n",
              " 0.06111846061334936,\n",
              " 0.059410703547805144,\n",
              " 0.05943475646422125,\n",
              " 0.06316295850871917,\n",
              " 0.05017438364401683,\n",
              " 0.06008418520745634,\n",
              " 0.04454600120264579,\n",
              " 0.04432952495490078,\n",
              " 0.04834636199639203,\n",
              " 0.05919422730006013,\n",
              " 0.06900781719783522,\n",
              " 0.06819001803968727,\n",
              " 0.062489476849067915,\n",
              " 0.06164762477450386,\n",
              " 0.0701142513529765,\n",
              " 0.0694407696933253,\n",
              " 0.06956103427540589,\n",
              " 0.07206253758268188,\n",
              " 0.06987372218881538,\n",
              " 0.0666025255562237,\n",
              " 0.06806975345760674]"
            ]
          },
          "metadata": {
            "tags": []
          },
          "execution_count": 92
        }
      ]
    },
    {
      "cell_type": "code",
      "metadata": {
        "colab": {
          "base_uri": "https://localhost:8080/"
        },
        "id": "dLy0bs-qMjgc",
        "outputId": "848f1f56-3ce4-4e55-c8fc-86b28f570a3b"
      },
      "source": [
        "# demonstrate prediction for next 10 days\n",
        "from numpy import array\n",
        "\n",
        "lst_output=[]\n",
        "n_steps=100\n",
        "i=0\n",
        "while(i<30):\n",
        "    \n",
        "    if(len(temp_input)>100):\n",
        "        #print(temp_input)\n",
        "        x_input=np.array(temp_input[1:])\n",
        "        print(\"{} day input {}\".format(i,x_input))\n",
        "        x_input=x_input.reshape(1,-1)\n",
        "        x_input = x_input.reshape((1, n_steps, 1))\n",
        "        #print(x_input)\n",
        "        yhat = model.predict(x_input, verbose=0)\n",
        "        print(\"{} day output {}\".format(i,yhat))\n",
        "        temp_input.extend(yhat[0].tolist())\n",
        "        temp_input=temp_input[1:]\n",
        "        #print(temp_input)\n",
        "        lst_output.extend(yhat.tolist())\n",
        "        i=i+1\n",
        "    else:\n",
        "        x_input = x_input.reshape((1, n_steps,1))\n",
        "        yhat = model.predict(x_input, verbose=0)\n",
        "        print(yhat[0])\n",
        "        temp_input.extend(yhat[0].tolist())\n",
        "        print(len(temp_input))\n",
        "        lst_output.extend(yhat.tolist())\n",
        "        i=i+1\n",
        "    \n",
        "\n",
        "print(lst_output)"
      ],
      "execution_count": 93,
      "outputs": [
        {
          "output_type": "stream",
          "text": [
            "[0.06606279]\n",
            "101\n",
            "1 day input [0.65849669 0.68192423 0.6791341  0.70001203 0.7039567  0.70556825\n",
            " 0.70131088 0.71651233 0.72293446 0.711365   0.70948888 0.72901984\n",
            " 0.71595911 0.71858088 0.67598316 0.67377029 0.69488876 0.67990379\n",
            " 0.69710162 0.70816597 0.80505111 0.83081179 0.83781118 0.8416356\n",
            " 0.87858088 0.85173782 0.86727601 0.83502105 0.86999399 0.88923632\n",
            " 0.88825015 0.8853638  0.89455201 0.89594708 0.92064943 0.97929044\n",
            " 0.99360192 0.98366807 1.         0.98544799 0.9834997  0.09308479\n",
            " 0.10544799 0.09876127 0.07345761 0.07365003 0.05407096 0.06489477\n",
            " 0.0556825  0.05209862 0.06016837 0.06061335 0.0524113  0.04810583\n",
            " 0.03968731 0.04748046 0.05164161 0.04036079 0.04300661 0.0527721\n",
            " 0.05921828 0.05712568 0.06126278 0.06361996 0.05455201 0.06292243\n",
            " 0.05488876 0.05950692 0.05924233 0.06405292 0.08192423 0.07398677\n",
            " 0.07420325 0.07304871 0.06898376 0.06167168 0.06535177 0.06381239\n",
            " 0.06111846 0.0594107  0.05943476 0.06316296 0.05017438 0.06008419\n",
            " 0.044546   0.04432952 0.04834636 0.05919423 0.06900782 0.06819002\n",
            " 0.06248948 0.06164762 0.07011425 0.06944077 0.06956103 0.07206254\n",
            " 0.06987372 0.06660253 0.06806975 0.06606279]\n",
            "1 day output [[0.065949]]\n",
            "2 day input [0.68192423 0.6791341  0.70001203 0.7039567  0.70556825 0.70131088\n",
            " 0.71651233 0.72293446 0.711365   0.70948888 0.72901984 0.71595911\n",
            " 0.71858088 0.67598316 0.67377029 0.69488876 0.67990379 0.69710162\n",
            " 0.70816597 0.80505111 0.83081179 0.83781118 0.8416356  0.87858088\n",
            " 0.85173782 0.86727601 0.83502105 0.86999399 0.88923632 0.88825015\n",
            " 0.8853638  0.89455201 0.89594708 0.92064943 0.97929044 0.99360192\n",
            " 0.98366807 1.         0.98544799 0.9834997  0.09308479 0.10544799\n",
            " 0.09876127 0.07345761 0.07365003 0.05407096 0.06489477 0.0556825\n",
            " 0.05209862 0.06016837 0.06061335 0.0524113  0.04810583 0.03968731\n",
            " 0.04748046 0.05164161 0.04036079 0.04300661 0.0527721  0.05921828\n",
            " 0.05712568 0.06126278 0.06361996 0.05455201 0.06292243 0.05488876\n",
            " 0.05950692 0.05924233 0.06405292 0.08192423 0.07398677 0.07420325\n",
            " 0.07304871 0.06898376 0.06167168 0.06535177 0.06381239 0.06111846\n",
            " 0.0594107  0.05943476 0.06316296 0.05017438 0.06008419 0.044546\n",
            " 0.04432952 0.04834636 0.05919423 0.06900782 0.06819002 0.06248948\n",
            " 0.06164762 0.07011425 0.06944077 0.06956103 0.07206254 0.06987372\n",
            " 0.06660253 0.06806975 0.06606279 0.065949  ]\n",
            "2 day output [[0.0655042]]\n",
            "3 day input [0.6791341  0.70001203 0.7039567  0.70556825 0.70131088 0.71651233\n",
            " 0.72293446 0.711365   0.70948888 0.72901984 0.71595911 0.71858088\n",
            " 0.67598316 0.67377029 0.69488876 0.67990379 0.69710162 0.70816597\n",
            " 0.80505111 0.83081179 0.83781118 0.8416356  0.87858088 0.85173782\n",
            " 0.86727601 0.83502105 0.86999399 0.88923632 0.88825015 0.8853638\n",
            " 0.89455201 0.89594708 0.92064943 0.97929044 0.99360192 0.98366807\n",
            " 1.         0.98544799 0.9834997  0.09308479 0.10544799 0.09876127\n",
            " 0.07345761 0.07365003 0.05407096 0.06489477 0.0556825  0.05209862\n",
            " 0.06016837 0.06061335 0.0524113  0.04810583 0.03968731 0.04748046\n",
            " 0.05164161 0.04036079 0.04300661 0.0527721  0.05921828 0.05712568\n",
            " 0.06126278 0.06361996 0.05455201 0.06292243 0.05488876 0.05950692\n",
            " 0.05924233 0.06405292 0.08192423 0.07398677 0.07420325 0.07304871\n",
            " 0.06898376 0.06167168 0.06535177 0.06381239 0.06111846 0.0594107\n",
            " 0.05943476 0.06316296 0.05017438 0.06008419 0.044546   0.04432952\n",
            " 0.04834636 0.05919423 0.06900782 0.06819002 0.06248948 0.06164762\n",
            " 0.07011425 0.06944077 0.06956103 0.07206254 0.06987372 0.06660253\n",
            " 0.06806975 0.06606279 0.065949   0.0655042 ]\n",
            "3 day output [[0.06492144]]\n",
            "4 day input [0.70001203 0.7039567  0.70556825 0.70131088 0.71651233 0.72293446\n",
            " 0.711365   0.70948888 0.72901984 0.71595911 0.71858088 0.67598316\n",
            " 0.67377029 0.69488876 0.67990379 0.69710162 0.70816597 0.80505111\n",
            " 0.83081179 0.83781118 0.8416356  0.87858088 0.85173782 0.86727601\n",
            " 0.83502105 0.86999399 0.88923632 0.88825015 0.8853638  0.89455201\n",
            " 0.89594708 0.92064943 0.97929044 0.99360192 0.98366807 1.\n",
            " 0.98544799 0.9834997  0.09308479 0.10544799 0.09876127 0.07345761\n",
            " 0.07365003 0.05407096 0.06489477 0.0556825  0.05209862 0.06016837\n",
            " 0.06061335 0.0524113  0.04810583 0.03968731 0.04748046 0.05164161\n",
            " 0.04036079 0.04300661 0.0527721  0.05921828 0.05712568 0.06126278\n",
            " 0.06361996 0.05455201 0.06292243 0.05488876 0.05950692 0.05924233\n",
            " 0.06405292 0.08192423 0.07398677 0.07420325 0.07304871 0.06898376\n",
            " 0.06167168 0.06535177 0.06381239 0.06111846 0.0594107  0.05943476\n",
            " 0.06316296 0.05017438 0.06008419 0.044546   0.04432952 0.04834636\n",
            " 0.05919423 0.06900782 0.06819002 0.06248948 0.06164762 0.07011425\n",
            " 0.06944077 0.06956103 0.07206254 0.06987372 0.06660253 0.06806975\n",
            " 0.06606279 0.065949   0.0655042  0.06492144]\n",
            "4 day output [[0.06433066]]\n",
            "5 day input [0.7039567  0.70556825 0.70131088 0.71651233 0.72293446 0.711365\n",
            " 0.70948888 0.72901984 0.71595911 0.71858088 0.67598316 0.67377029\n",
            " 0.69488876 0.67990379 0.69710162 0.70816597 0.80505111 0.83081179\n",
            " 0.83781118 0.8416356  0.87858088 0.85173782 0.86727601 0.83502105\n",
            " 0.86999399 0.88923632 0.88825015 0.8853638  0.89455201 0.89594708\n",
            " 0.92064943 0.97929044 0.99360192 0.98366807 1.         0.98544799\n",
            " 0.9834997  0.09308479 0.10544799 0.09876127 0.07345761 0.07365003\n",
            " 0.05407096 0.06489477 0.0556825  0.05209862 0.06016837 0.06061335\n",
            " 0.0524113  0.04810583 0.03968731 0.04748046 0.05164161 0.04036079\n",
            " 0.04300661 0.0527721  0.05921828 0.05712568 0.06126278 0.06361996\n",
            " 0.05455201 0.06292243 0.05488876 0.05950692 0.05924233 0.06405292\n",
            " 0.08192423 0.07398677 0.07420325 0.07304871 0.06898376 0.06167168\n",
            " 0.06535177 0.06381239 0.06111846 0.0594107  0.05943476 0.06316296\n",
            " 0.05017438 0.06008419 0.044546   0.04432952 0.04834636 0.05919423\n",
            " 0.06900782 0.06819002 0.06248948 0.06164762 0.07011425 0.06944077\n",
            " 0.06956103 0.07206254 0.06987372 0.06660253 0.06806975 0.06606279\n",
            " 0.065949   0.0655042  0.06492144 0.06433066]\n",
            "5 day output [[0.06380746]]\n",
            "6 day input [0.70556825 0.70131088 0.71651233 0.72293446 0.711365   0.70948888\n",
            " 0.72901984 0.71595911 0.71858088 0.67598316 0.67377029 0.69488876\n",
            " 0.67990379 0.69710162 0.70816597 0.80505111 0.83081179 0.83781118\n",
            " 0.8416356  0.87858088 0.85173782 0.86727601 0.83502105 0.86999399\n",
            " 0.88923632 0.88825015 0.8853638  0.89455201 0.89594708 0.92064943\n",
            " 0.97929044 0.99360192 0.98366807 1.         0.98544799 0.9834997\n",
            " 0.09308479 0.10544799 0.09876127 0.07345761 0.07365003 0.05407096\n",
            " 0.06489477 0.0556825  0.05209862 0.06016837 0.06061335 0.0524113\n",
            " 0.04810583 0.03968731 0.04748046 0.05164161 0.04036079 0.04300661\n",
            " 0.0527721  0.05921828 0.05712568 0.06126278 0.06361996 0.05455201\n",
            " 0.06292243 0.05488876 0.05950692 0.05924233 0.06405292 0.08192423\n",
            " 0.07398677 0.07420325 0.07304871 0.06898376 0.06167168 0.06535177\n",
            " 0.06381239 0.06111846 0.0594107  0.05943476 0.06316296 0.05017438\n",
            " 0.06008419 0.044546   0.04432952 0.04834636 0.05919423 0.06900782\n",
            " 0.06819002 0.06248948 0.06164762 0.07011425 0.06944077 0.06956103\n",
            " 0.07206254 0.06987372 0.06660253 0.06806975 0.06606279 0.065949\n",
            " 0.0655042  0.06492144 0.06433066 0.06380746]\n",
            "6 day output [[0.06338747]]\n",
            "7 day input [0.70131088 0.71651233 0.72293446 0.711365   0.70948888 0.72901984\n",
            " 0.71595911 0.71858088 0.67598316 0.67377029 0.69488876 0.67990379\n",
            " 0.69710162 0.70816597 0.80505111 0.83081179 0.83781118 0.8416356\n",
            " 0.87858088 0.85173782 0.86727601 0.83502105 0.86999399 0.88923632\n",
            " 0.88825015 0.8853638  0.89455201 0.89594708 0.92064943 0.97929044\n",
            " 0.99360192 0.98366807 1.         0.98544799 0.9834997  0.09308479\n",
            " 0.10544799 0.09876127 0.07345761 0.07365003 0.05407096 0.06489477\n",
            " 0.0556825  0.05209862 0.06016837 0.06061335 0.0524113  0.04810583\n",
            " 0.03968731 0.04748046 0.05164161 0.04036079 0.04300661 0.0527721\n",
            " 0.05921828 0.05712568 0.06126278 0.06361996 0.05455201 0.06292243\n",
            " 0.05488876 0.05950692 0.05924233 0.06405292 0.08192423 0.07398677\n",
            " 0.07420325 0.07304871 0.06898376 0.06167168 0.06535177 0.06381239\n",
            " 0.06111846 0.0594107  0.05943476 0.06316296 0.05017438 0.06008419\n",
            " 0.044546   0.04432952 0.04834636 0.05919423 0.06900782 0.06819002\n",
            " 0.06248948 0.06164762 0.07011425 0.06944077 0.06956103 0.07206254\n",
            " 0.06987372 0.06660253 0.06806975 0.06606279 0.065949   0.0655042\n",
            " 0.06492144 0.06433066 0.06380746 0.06338747]\n",
            "7 day output [[0.0630845]]\n",
            "8 day input [0.71651233 0.72293446 0.711365   0.70948888 0.72901984 0.71595911\n",
            " 0.71858088 0.67598316 0.67377029 0.69488876 0.67990379 0.69710162\n",
            " 0.70816597 0.80505111 0.83081179 0.83781118 0.8416356  0.87858088\n",
            " 0.85173782 0.86727601 0.83502105 0.86999399 0.88923632 0.88825015\n",
            " 0.8853638  0.89455201 0.89594708 0.92064943 0.97929044 0.99360192\n",
            " 0.98366807 1.         0.98544799 0.9834997  0.09308479 0.10544799\n",
            " 0.09876127 0.07345761 0.07365003 0.05407096 0.06489477 0.0556825\n",
            " 0.05209862 0.06016837 0.06061335 0.0524113  0.04810583 0.03968731\n",
            " 0.04748046 0.05164161 0.04036079 0.04300661 0.0527721  0.05921828\n",
            " 0.05712568 0.06126278 0.06361996 0.05455201 0.06292243 0.05488876\n",
            " 0.05950692 0.05924233 0.06405292 0.08192423 0.07398677 0.07420325\n",
            " 0.07304871 0.06898376 0.06167168 0.06535177 0.06381239 0.06111846\n",
            " 0.0594107  0.05943476 0.06316296 0.05017438 0.06008419 0.044546\n",
            " 0.04432952 0.04834636 0.05919423 0.06900782 0.06819002 0.06248948\n",
            " 0.06164762 0.07011425 0.06944077 0.06956103 0.07206254 0.06987372\n",
            " 0.06660253 0.06806975 0.06606279 0.065949   0.0655042  0.06492144\n",
            " 0.06433066 0.06380746 0.06338747 0.0630845 ]\n",
            "8 day output [[0.06290056]]\n",
            "9 day input [0.72293446 0.711365   0.70948888 0.72901984 0.71595911 0.71858088\n",
            " 0.67598316 0.67377029 0.69488876 0.67990379 0.69710162 0.70816597\n",
            " 0.80505111 0.83081179 0.83781118 0.8416356  0.87858088 0.85173782\n",
            " 0.86727601 0.83502105 0.86999399 0.88923632 0.88825015 0.8853638\n",
            " 0.89455201 0.89594708 0.92064943 0.97929044 0.99360192 0.98366807\n",
            " 1.         0.98544799 0.9834997  0.09308479 0.10544799 0.09876127\n",
            " 0.07345761 0.07365003 0.05407096 0.06489477 0.0556825  0.05209862\n",
            " 0.06016837 0.06061335 0.0524113  0.04810583 0.03968731 0.04748046\n",
            " 0.05164161 0.04036079 0.04300661 0.0527721  0.05921828 0.05712568\n",
            " 0.06126278 0.06361996 0.05455201 0.06292243 0.05488876 0.05950692\n",
            " 0.05924233 0.06405292 0.08192423 0.07398677 0.07420325 0.07304871\n",
            " 0.06898376 0.06167168 0.06535177 0.06381239 0.06111846 0.0594107\n",
            " 0.05943476 0.06316296 0.05017438 0.06008419 0.044546   0.04432952\n",
            " 0.04834636 0.05919423 0.06900782 0.06819002 0.06248948 0.06164762\n",
            " 0.07011425 0.06944077 0.06956103 0.07206254 0.06987372 0.06660253\n",
            " 0.06806975 0.06606279 0.065949   0.0655042  0.06492144 0.06433066\n",
            " 0.06380746 0.06338747 0.0630845  0.06290056]\n",
            "9 day output [[0.06283257]]\n",
            "10 day input [0.711365   0.70948888 0.72901984 0.71595911 0.71858088 0.67598316\n",
            " 0.67377029 0.69488876 0.67990379 0.69710162 0.70816597 0.80505111\n",
            " 0.83081179 0.83781118 0.8416356  0.87858088 0.85173782 0.86727601\n",
            " 0.83502105 0.86999399 0.88923632 0.88825015 0.8853638  0.89455201\n",
            " 0.89594708 0.92064943 0.97929044 0.99360192 0.98366807 1.\n",
            " 0.98544799 0.9834997  0.09308479 0.10544799 0.09876127 0.07345761\n",
            " 0.07365003 0.05407096 0.06489477 0.0556825  0.05209862 0.06016837\n",
            " 0.06061335 0.0524113  0.04810583 0.03968731 0.04748046 0.05164161\n",
            " 0.04036079 0.04300661 0.0527721  0.05921828 0.05712568 0.06126278\n",
            " 0.06361996 0.05455201 0.06292243 0.05488876 0.05950692 0.05924233\n",
            " 0.06405292 0.08192423 0.07398677 0.07420325 0.07304871 0.06898376\n",
            " 0.06167168 0.06535177 0.06381239 0.06111846 0.0594107  0.05943476\n",
            " 0.06316296 0.05017438 0.06008419 0.044546   0.04432952 0.04834636\n",
            " 0.05919423 0.06900782 0.06819002 0.06248948 0.06164762 0.07011425\n",
            " 0.06944077 0.06956103 0.07206254 0.06987372 0.06660253 0.06806975\n",
            " 0.06606279 0.065949   0.0655042  0.06492144 0.06433066 0.06380746\n",
            " 0.06338747 0.0630845  0.06290056 0.06283257]\n",
            "10 day output [[0.06287373]]\n",
            "11 day input [0.70948888 0.72901984 0.71595911 0.71858088 0.67598316 0.67377029\n",
            " 0.69488876 0.67990379 0.69710162 0.70816597 0.80505111 0.83081179\n",
            " 0.83781118 0.8416356  0.87858088 0.85173782 0.86727601 0.83502105\n",
            " 0.86999399 0.88923632 0.88825015 0.8853638  0.89455201 0.89594708\n",
            " 0.92064943 0.97929044 0.99360192 0.98366807 1.         0.98544799\n",
            " 0.9834997  0.09308479 0.10544799 0.09876127 0.07345761 0.07365003\n",
            " 0.05407096 0.06489477 0.0556825  0.05209862 0.06016837 0.06061335\n",
            " 0.0524113  0.04810583 0.03968731 0.04748046 0.05164161 0.04036079\n",
            " 0.04300661 0.0527721  0.05921828 0.05712568 0.06126278 0.06361996\n",
            " 0.05455201 0.06292243 0.05488876 0.05950692 0.05924233 0.06405292\n",
            " 0.08192423 0.07398677 0.07420325 0.07304871 0.06898376 0.06167168\n",
            " 0.06535177 0.06381239 0.06111846 0.0594107  0.05943476 0.06316296\n",
            " 0.05017438 0.06008419 0.044546   0.04432952 0.04834636 0.05919423\n",
            " 0.06900782 0.06819002 0.06248948 0.06164762 0.07011425 0.06944077\n",
            " 0.06956103 0.07206254 0.06987372 0.06660253 0.06806975 0.06606279\n",
            " 0.065949   0.0655042  0.06492144 0.06433066 0.06380746 0.06338747\n",
            " 0.0630845  0.06290056 0.06283257 0.06287373]\n",
            "11 day output [[0.06301536]]\n",
            "12 day input [0.72901984 0.71595911 0.71858088 0.67598316 0.67377029 0.69488876\n",
            " 0.67990379 0.69710162 0.70816597 0.80505111 0.83081179 0.83781118\n",
            " 0.8416356  0.87858088 0.85173782 0.86727601 0.83502105 0.86999399\n",
            " 0.88923632 0.88825015 0.8853638  0.89455201 0.89594708 0.92064943\n",
            " 0.97929044 0.99360192 0.98366807 1.         0.98544799 0.9834997\n",
            " 0.09308479 0.10544799 0.09876127 0.07345761 0.07365003 0.05407096\n",
            " 0.06489477 0.0556825  0.05209862 0.06016837 0.06061335 0.0524113\n",
            " 0.04810583 0.03968731 0.04748046 0.05164161 0.04036079 0.04300661\n",
            " 0.0527721  0.05921828 0.05712568 0.06126278 0.06361996 0.05455201\n",
            " 0.06292243 0.05488876 0.05950692 0.05924233 0.06405292 0.08192423\n",
            " 0.07398677 0.07420325 0.07304871 0.06898376 0.06167168 0.06535177\n",
            " 0.06381239 0.06111846 0.0594107  0.05943476 0.06316296 0.05017438\n",
            " 0.06008419 0.044546   0.04432952 0.04834636 0.05919423 0.06900782\n",
            " 0.06819002 0.06248948 0.06164762 0.07011425 0.06944077 0.06956103\n",
            " 0.07206254 0.06987372 0.06660253 0.06806975 0.06606279 0.065949\n",
            " 0.0655042  0.06492144 0.06433066 0.06380746 0.06338747 0.0630845\n",
            " 0.06290056 0.06283257 0.06287373 0.06301536]\n",
            "12 day output [[0.06324829]]\n",
            "13 day input [0.71595911 0.71858088 0.67598316 0.67377029 0.69488876 0.67990379\n",
            " 0.69710162 0.70816597 0.80505111 0.83081179 0.83781118 0.8416356\n",
            " 0.87858088 0.85173782 0.86727601 0.83502105 0.86999399 0.88923632\n",
            " 0.88825015 0.8853638  0.89455201 0.89594708 0.92064943 0.97929044\n",
            " 0.99360192 0.98366807 1.         0.98544799 0.9834997  0.09308479\n",
            " 0.10544799 0.09876127 0.07345761 0.07365003 0.05407096 0.06489477\n",
            " 0.0556825  0.05209862 0.06016837 0.06061335 0.0524113  0.04810583\n",
            " 0.03968731 0.04748046 0.05164161 0.04036079 0.04300661 0.0527721\n",
            " 0.05921828 0.05712568 0.06126278 0.06361996 0.05455201 0.06292243\n",
            " 0.05488876 0.05950692 0.05924233 0.06405292 0.08192423 0.07398677\n",
            " 0.07420325 0.07304871 0.06898376 0.06167168 0.06535177 0.06381239\n",
            " 0.06111846 0.0594107  0.05943476 0.06316296 0.05017438 0.06008419\n",
            " 0.044546   0.04432952 0.04834636 0.05919423 0.06900782 0.06819002\n",
            " 0.06248948 0.06164762 0.07011425 0.06944077 0.06956103 0.07206254\n",
            " 0.06987372 0.06660253 0.06806975 0.06606279 0.065949   0.0655042\n",
            " 0.06492144 0.06433066 0.06380746 0.06338747 0.0630845  0.06290056\n",
            " 0.06283257 0.06287373 0.06301536 0.06324829]\n",
            "13 day output [[0.0635625]]\n",
            "14 day input [0.71858088 0.67598316 0.67377029 0.69488876 0.67990379 0.69710162\n",
            " 0.70816597 0.80505111 0.83081179 0.83781118 0.8416356  0.87858088\n",
            " 0.85173782 0.86727601 0.83502105 0.86999399 0.88923632 0.88825015\n",
            " 0.8853638  0.89455201 0.89594708 0.92064943 0.97929044 0.99360192\n",
            " 0.98366807 1.         0.98544799 0.9834997  0.09308479 0.10544799\n",
            " 0.09876127 0.07345761 0.07365003 0.05407096 0.06489477 0.0556825\n",
            " 0.05209862 0.06016837 0.06061335 0.0524113  0.04810583 0.03968731\n",
            " 0.04748046 0.05164161 0.04036079 0.04300661 0.0527721  0.05921828\n",
            " 0.05712568 0.06126278 0.06361996 0.05455201 0.06292243 0.05488876\n",
            " 0.05950692 0.05924233 0.06405292 0.08192423 0.07398677 0.07420325\n",
            " 0.07304871 0.06898376 0.06167168 0.06535177 0.06381239 0.06111846\n",
            " 0.0594107  0.05943476 0.06316296 0.05017438 0.06008419 0.044546\n",
            " 0.04432952 0.04834636 0.05919423 0.06900782 0.06819002 0.06248948\n",
            " 0.06164762 0.07011425 0.06944077 0.06956103 0.07206254 0.06987372\n",
            " 0.06660253 0.06806975 0.06606279 0.065949   0.0655042  0.06492144\n",
            " 0.06433066 0.06380746 0.06338747 0.0630845  0.06290056 0.06283257\n",
            " 0.06287373 0.06301536 0.06324829 0.0635625 ]\n",
            "14 day output [[0.06394613]]\n",
            "15 day input [0.67598316 0.67377029 0.69488876 0.67990379 0.69710162 0.70816597\n",
            " 0.80505111 0.83081179 0.83781118 0.8416356  0.87858088 0.85173782\n",
            " 0.86727601 0.83502105 0.86999399 0.88923632 0.88825015 0.8853638\n",
            " 0.89455201 0.89594708 0.92064943 0.97929044 0.99360192 0.98366807\n",
            " 1.         0.98544799 0.9834997  0.09308479 0.10544799 0.09876127\n",
            " 0.07345761 0.07365003 0.05407096 0.06489477 0.0556825  0.05209862\n",
            " 0.06016837 0.06061335 0.0524113  0.04810583 0.03968731 0.04748046\n",
            " 0.05164161 0.04036079 0.04300661 0.0527721  0.05921828 0.05712568\n",
            " 0.06126278 0.06361996 0.05455201 0.06292243 0.05488876 0.05950692\n",
            " 0.05924233 0.06405292 0.08192423 0.07398677 0.07420325 0.07304871\n",
            " 0.06898376 0.06167168 0.06535177 0.06381239 0.06111846 0.0594107\n",
            " 0.05943476 0.06316296 0.05017438 0.06008419 0.044546   0.04432952\n",
            " 0.04834636 0.05919423 0.06900782 0.06819002 0.06248948 0.06164762\n",
            " 0.07011425 0.06944077 0.06956103 0.07206254 0.06987372 0.06660253\n",
            " 0.06806975 0.06606279 0.065949   0.0655042  0.06492144 0.06433066\n",
            " 0.06380746 0.06338747 0.0630845  0.06290056 0.06283257 0.06287373\n",
            " 0.06301536 0.06324829 0.0635625  0.06394613]\n",
            "15 day output [[0.06438822]]\n",
            "16 day input [0.67377029 0.69488876 0.67990379 0.69710162 0.70816597 0.80505111\n",
            " 0.83081179 0.83781118 0.8416356  0.87858088 0.85173782 0.86727601\n",
            " 0.83502105 0.86999399 0.88923632 0.88825015 0.8853638  0.89455201\n",
            " 0.89594708 0.92064943 0.97929044 0.99360192 0.98366807 1.\n",
            " 0.98544799 0.9834997  0.09308479 0.10544799 0.09876127 0.07345761\n",
            " 0.07365003 0.05407096 0.06489477 0.0556825  0.05209862 0.06016837\n",
            " 0.06061335 0.0524113  0.04810583 0.03968731 0.04748046 0.05164161\n",
            " 0.04036079 0.04300661 0.0527721  0.05921828 0.05712568 0.06126278\n",
            " 0.06361996 0.05455201 0.06292243 0.05488876 0.05950692 0.05924233\n",
            " 0.06405292 0.08192423 0.07398677 0.07420325 0.07304871 0.06898376\n",
            " 0.06167168 0.06535177 0.06381239 0.06111846 0.0594107  0.05943476\n",
            " 0.06316296 0.05017438 0.06008419 0.044546   0.04432952 0.04834636\n",
            " 0.05919423 0.06900782 0.06819002 0.06248948 0.06164762 0.07011425\n",
            " 0.06944077 0.06956103 0.07206254 0.06987372 0.06660253 0.06806975\n",
            " 0.06606279 0.065949   0.0655042  0.06492144 0.06433066 0.06380746\n",
            " 0.06338747 0.0630845  0.06290056 0.06283257 0.06287373 0.06301536\n",
            " 0.06324829 0.0635625  0.06394613 0.06438822]\n",
            "16 day output [[0.06487671]]\n",
            "17 day input [0.69488876 0.67990379 0.69710162 0.70816597 0.80505111 0.83081179\n",
            " 0.83781118 0.8416356  0.87858088 0.85173782 0.86727601 0.83502105\n",
            " 0.86999399 0.88923632 0.88825015 0.8853638  0.89455201 0.89594708\n",
            " 0.92064943 0.97929044 0.99360192 0.98366807 1.         0.98544799\n",
            " 0.9834997  0.09308479 0.10544799 0.09876127 0.07345761 0.07365003\n",
            " 0.05407096 0.06489477 0.0556825  0.05209862 0.06016837 0.06061335\n",
            " 0.0524113  0.04810583 0.03968731 0.04748046 0.05164161 0.04036079\n",
            " 0.04300661 0.0527721  0.05921828 0.05712568 0.06126278 0.06361996\n",
            " 0.05455201 0.06292243 0.05488876 0.05950692 0.05924233 0.06405292\n",
            " 0.08192423 0.07398677 0.07420325 0.07304871 0.06898376 0.06167168\n",
            " 0.06535177 0.06381239 0.06111846 0.0594107  0.05943476 0.06316296\n",
            " 0.05017438 0.06008419 0.044546   0.04432952 0.04834636 0.05919423\n",
            " 0.06900782 0.06819002 0.06248948 0.06164762 0.07011425 0.06944077\n",
            " 0.06956103 0.07206254 0.06987372 0.06660253 0.06806975 0.06606279\n",
            " 0.065949   0.0655042  0.06492144 0.06433066 0.06380746 0.06338747\n",
            " 0.0630845  0.06290056 0.06283257 0.06287373 0.06301536 0.06324829\n",
            " 0.0635625  0.06394613 0.06438822 0.06487671]\n",
            "17 day output [[0.06540158]]\n",
            "18 day input [0.67990379 0.69710162 0.70816597 0.80505111 0.83081179 0.83781118\n",
            " 0.8416356  0.87858088 0.85173782 0.86727601 0.83502105 0.86999399\n",
            " 0.88923632 0.88825015 0.8853638  0.89455201 0.89594708 0.92064943\n",
            " 0.97929044 0.99360192 0.98366807 1.         0.98544799 0.9834997\n",
            " 0.09308479 0.10544799 0.09876127 0.07345761 0.07365003 0.05407096\n",
            " 0.06489477 0.0556825  0.05209862 0.06016837 0.06061335 0.0524113\n",
            " 0.04810583 0.03968731 0.04748046 0.05164161 0.04036079 0.04300661\n",
            " 0.0527721  0.05921828 0.05712568 0.06126278 0.06361996 0.05455201\n",
            " 0.06292243 0.05488876 0.05950692 0.05924233 0.06405292 0.08192423\n",
            " 0.07398677 0.07420325 0.07304871 0.06898376 0.06167168 0.06535177\n",
            " 0.06381239 0.06111846 0.0594107  0.05943476 0.06316296 0.05017438\n",
            " 0.06008419 0.044546   0.04432952 0.04834636 0.05919423 0.06900782\n",
            " 0.06819002 0.06248948 0.06164762 0.07011425 0.06944077 0.06956103\n",
            " 0.07206254 0.06987372 0.06660253 0.06806975 0.06606279 0.065949\n",
            " 0.0655042  0.06492144 0.06433066 0.06380746 0.06338747 0.0630845\n",
            " 0.06290056 0.06283257 0.06287373 0.06301536 0.06324829 0.0635625\n",
            " 0.06394613 0.06438822 0.06487671 0.06540158]\n",
            "18 day output [[0.06595292]]\n",
            "19 day input [0.69710162 0.70816597 0.80505111 0.83081179 0.83781118 0.8416356\n",
            " 0.87858088 0.85173782 0.86727601 0.83502105 0.86999399 0.88923632\n",
            " 0.88825015 0.8853638  0.89455201 0.89594708 0.92064943 0.97929044\n",
            " 0.99360192 0.98366807 1.         0.98544799 0.9834997  0.09308479\n",
            " 0.10544799 0.09876127 0.07345761 0.07365003 0.05407096 0.06489477\n",
            " 0.0556825  0.05209862 0.06016837 0.06061335 0.0524113  0.04810583\n",
            " 0.03968731 0.04748046 0.05164161 0.04036079 0.04300661 0.0527721\n",
            " 0.05921828 0.05712568 0.06126278 0.06361996 0.05455201 0.06292243\n",
            " 0.05488876 0.05950692 0.05924233 0.06405292 0.08192423 0.07398677\n",
            " 0.07420325 0.07304871 0.06898376 0.06167168 0.06535177 0.06381239\n",
            " 0.06111846 0.0594107  0.05943476 0.06316296 0.05017438 0.06008419\n",
            " 0.044546   0.04432952 0.04834636 0.05919423 0.06900782 0.06819002\n",
            " 0.06248948 0.06164762 0.07011425 0.06944077 0.06956103 0.07206254\n",
            " 0.06987372 0.06660253 0.06806975 0.06606279 0.065949   0.0655042\n",
            " 0.06492144 0.06433066 0.06380746 0.06338747 0.0630845  0.06290056\n",
            " 0.06283257 0.06287373 0.06301536 0.06324829 0.0635625  0.06394613\n",
            " 0.06438822 0.06487671 0.06540158 0.06595292]\n",
            "19 day output [[0.06652068]]\n",
            "20 day input [0.70816597 0.80505111 0.83081179 0.83781118 0.8416356  0.87858088\n",
            " 0.85173782 0.86727601 0.83502105 0.86999399 0.88923632 0.88825015\n",
            " 0.8853638  0.89455201 0.89594708 0.92064943 0.97929044 0.99360192\n",
            " 0.98366807 1.         0.98544799 0.9834997  0.09308479 0.10544799\n",
            " 0.09876127 0.07345761 0.07365003 0.05407096 0.06489477 0.0556825\n",
            " 0.05209862 0.06016837 0.06061335 0.0524113  0.04810583 0.03968731\n",
            " 0.04748046 0.05164161 0.04036079 0.04300661 0.0527721  0.05921828\n",
            " 0.05712568 0.06126278 0.06361996 0.05455201 0.06292243 0.05488876\n",
            " 0.05950692 0.05924233 0.06405292 0.08192423 0.07398677 0.07420325\n",
            " 0.07304871 0.06898376 0.06167168 0.06535177 0.06381239 0.06111846\n",
            " 0.0594107  0.05943476 0.06316296 0.05017438 0.06008419 0.044546\n",
            " 0.04432952 0.04834636 0.05919423 0.06900782 0.06819002 0.06248948\n",
            " 0.06164762 0.07011425 0.06944077 0.06956103 0.07206254 0.06987372\n",
            " 0.06660253 0.06806975 0.06606279 0.065949   0.0655042  0.06492144\n",
            " 0.06433066 0.06380746 0.06338747 0.0630845  0.06290056 0.06283257\n",
            " 0.06287373 0.06301536 0.06324829 0.0635625  0.06394613 0.06438822\n",
            " 0.06487671 0.06540158 0.06595292 0.06652068]\n",
            "20 day output [[0.06709711]]\n",
            "21 day input [0.80505111 0.83081179 0.83781118 0.8416356  0.87858088 0.85173782\n",
            " 0.86727601 0.83502105 0.86999399 0.88923632 0.88825015 0.8853638\n",
            " 0.89455201 0.89594708 0.92064943 0.97929044 0.99360192 0.98366807\n",
            " 1.         0.98544799 0.9834997  0.09308479 0.10544799 0.09876127\n",
            " 0.07345761 0.07365003 0.05407096 0.06489477 0.0556825  0.05209862\n",
            " 0.06016837 0.06061335 0.0524113  0.04810583 0.03968731 0.04748046\n",
            " 0.05164161 0.04036079 0.04300661 0.0527721  0.05921828 0.05712568\n",
            " 0.06126278 0.06361996 0.05455201 0.06292243 0.05488876 0.05950692\n",
            " 0.05924233 0.06405292 0.08192423 0.07398677 0.07420325 0.07304871\n",
            " 0.06898376 0.06167168 0.06535177 0.06381239 0.06111846 0.0594107\n",
            " 0.05943476 0.06316296 0.05017438 0.06008419 0.044546   0.04432952\n",
            " 0.04834636 0.05919423 0.06900782 0.06819002 0.06248948 0.06164762\n",
            " 0.07011425 0.06944077 0.06956103 0.07206254 0.06987372 0.06660253\n",
            " 0.06806975 0.06606279 0.065949   0.0655042  0.06492144 0.06433066\n",
            " 0.06380746 0.06338747 0.0630845  0.06290056 0.06283257 0.06287373\n",
            " 0.06301536 0.06324829 0.0635625  0.06394613 0.06438822 0.06487671\n",
            " 0.06540158 0.06595292 0.06652068 0.06709711]\n",
            "21 day output [[0.06767484]]\n",
            "22 day input [0.83081179 0.83781118 0.8416356  0.87858088 0.85173782 0.86727601\n",
            " 0.83502105 0.86999399 0.88923632 0.88825015 0.8853638  0.89455201\n",
            " 0.89594708 0.92064943 0.97929044 0.99360192 0.98366807 1.\n",
            " 0.98544799 0.9834997  0.09308479 0.10544799 0.09876127 0.07345761\n",
            " 0.07365003 0.05407096 0.06489477 0.0556825  0.05209862 0.06016837\n",
            " 0.06061335 0.0524113  0.04810583 0.03968731 0.04748046 0.05164161\n",
            " 0.04036079 0.04300661 0.0527721  0.05921828 0.05712568 0.06126278\n",
            " 0.06361996 0.05455201 0.06292243 0.05488876 0.05950692 0.05924233\n",
            " 0.06405292 0.08192423 0.07398677 0.07420325 0.07304871 0.06898376\n",
            " 0.06167168 0.06535177 0.06381239 0.06111846 0.0594107  0.05943476\n",
            " 0.06316296 0.05017438 0.06008419 0.044546   0.04432952 0.04834636\n",
            " 0.05919423 0.06900782 0.06819002 0.06248948 0.06164762 0.07011425\n",
            " 0.06944077 0.06956103 0.07206254 0.06987372 0.06660253 0.06806975\n",
            " 0.06606279 0.065949   0.0655042  0.06492144 0.06433066 0.06380746\n",
            " 0.06338747 0.0630845  0.06290056 0.06283257 0.06287373 0.06301536\n",
            " 0.06324829 0.0635625  0.06394613 0.06438822 0.06487671 0.06540158\n",
            " 0.06595292 0.06652068 0.06709711 0.06767484]\n",
            "22 day output [[0.06824908]]\n",
            "23 day input [0.83781118 0.8416356  0.87858088 0.85173782 0.86727601 0.83502105\n",
            " 0.86999399 0.88923632 0.88825015 0.8853638  0.89455201 0.89594708\n",
            " 0.92064943 0.97929044 0.99360192 0.98366807 1.         0.98544799\n",
            " 0.9834997  0.09308479 0.10544799 0.09876127 0.07345761 0.07365003\n",
            " 0.05407096 0.06489477 0.0556825  0.05209862 0.06016837 0.06061335\n",
            " 0.0524113  0.04810583 0.03968731 0.04748046 0.05164161 0.04036079\n",
            " 0.04300661 0.0527721  0.05921828 0.05712568 0.06126278 0.06361996\n",
            " 0.05455201 0.06292243 0.05488876 0.05950692 0.05924233 0.06405292\n",
            " 0.08192423 0.07398677 0.07420325 0.07304871 0.06898376 0.06167168\n",
            " 0.06535177 0.06381239 0.06111846 0.0594107  0.05943476 0.06316296\n",
            " 0.05017438 0.06008419 0.044546   0.04432952 0.04834636 0.05919423\n",
            " 0.06900782 0.06819002 0.06248948 0.06164762 0.07011425 0.06944077\n",
            " 0.06956103 0.07206254 0.06987372 0.06660253 0.06806975 0.06606279\n",
            " 0.065949   0.0655042  0.06492144 0.06433066 0.06380746 0.06338747\n",
            " 0.0630845  0.06290056 0.06283257 0.06287373 0.06301536 0.06324829\n",
            " 0.0635625  0.06394613 0.06438822 0.06487671 0.06540158 0.06595292\n",
            " 0.06652068 0.06709711 0.06767484 0.06824908]\n",
            "23 day output [[0.06881359]]\n",
            "24 day input [0.8416356  0.87858088 0.85173782 0.86727601 0.83502105 0.86999399\n",
            " 0.88923632 0.88825015 0.8853638  0.89455201 0.89594708 0.92064943\n",
            " 0.97929044 0.99360192 0.98366807 1.         0.98544799 0.9834997\n",
            " 0.09308479 0.10544799 0.09876127 0.07345761 0.07365003 0.05407096\n",
            " 0.06489477 0.0556825  0.05209862 0.06016837 0.06061335 0.0524113\n",
            " 0.04810583 0.03968731 0.04748046 0.05164161 0.04036079 0.04300661\n",
            " 0.0527721  0.05921828 0.05712568 0.06126278 0.06361996 0.05455201\n",
            " 0.06292243 0.05488876 0.05950692 0.05924233 0.06405292 0.08192423\n",
            " 0.07398677 0.07420325 0.07304871 0.06898376 0.06167168 0.06535177\n",
            " 0.06381239 0.06111846 0.0594107  0.05943476 0.06316296 0.05017438\n",
            " 0.06008419 0.044546   0.04432952 0.04834636 0.05919423 0.06900782\n",
            " 0.06819002 0.06248948 0.06164762 0.07011425 0.06944077 0.06956103\n",
            " 0.07206254 0.06987372 0.06660253 0.06806975 0.06606279 0.065949\n",
            " 0.0655042  0.06492144 0.06433066 0.06380746 0.06338747 0.0630845\n",
            " 0.06290056 0.06283257 0.06287373 0.06301536 0.06324829 0.0635625\n",
            " 0.06394613 0.06438822 0.06487671 0.06540158 0.06595292 0.06652068\n",
            " 0.06709711 0.06767484 0.06824908 0.06881359]\n",
            "24 day output [[0.06936447]]\n",
            "25 day input [0.87858088 0.85173782 0.86727601 0.83502105 0.86999399 0.88923632\n",
            " 0.88825015 0.8853638  0.89455201 0.89594708 0.92064943 0.97929044\n",
            " 0.99360192 0.98366807 1.         0.98544799 0.9834997  0.09308479\n",
            " 0.10544799 0.09876127 0.07345761 0.07365003 0.05407096 0.06489477\n",
            " 0.0556825  0.05209862 0.06016837 0.06061335 0.0524113  0.04810583\n",
            " 0.03968731 0.04748046 0.05164161 0.04036079 0.04300661 0.0527721\n",
            " 0.05921828 0.05712568 0.06126278 0.06361996 0.05455201 0.06292243\n",
            " 0.05488876 0.05950692 0.05924233 0.06405292 0.08192423 0.07398677\n",
            " 0.07420325 0.07304871 0.06898376 0.06167168 0.06535177 0.06381239\n",
            " 0.06111846 0.0594107  0.05943476 0.06316296 0.05017438 0.06008419\n",
            " 0.044546   0.04432952 0.04834636 0.05919423 0.06900782 0.06819002\n",
            " 0.06248948 0.06164762 0.07011425 0.06944077 0.06956103 0.07206254\n",
            " 0.06987372 0.06660253 0.06806975 0.06606279 0.065949   0.0655042\n",
            " 0.06492144 0.06433066 0.06380746 0.06338747 0.0630845  0.06290056\n",
            " 0.06283257 0.06287373 0.06301536 0.06324829 0.0635625  0.06394613\n",
            " 0.06438822 0.06487671 0.06540158 0.06595292 0.06652068 0.06709711\n",
            " 0.06767484 0.06824908 0.06881359 0.06936447]\n",
            "25 day output [[0.06989898]]\n",
            "26 day input [0.85173782 0.86727601 0.83502105 0.86999399 0.88923632 0.88825015\n",
            " 0.8853638  0.89455201 0.89594708 0.92064943 0.97929044 0.99360192\n",
            " 0.98366807 1.         0.98544799 0.9834997  0.09308479 0.10544799\n",
            " 0.09876127 0.07345761 0.07365003 0.05407096 0.06489477 0.0556825\n",
            " 0.05209862 0.06016837 0.06061335 0.0524113  0.04810583 0.03968731\n",
            " 0.04748046 0.05164161 0.04036079 0.04300661 0.0527721  0.05921828\n",
            " 0.05712568 0.06126278 0.06361996 0.05455201 0.06292243 0.05488876\n",
            " 0.05950692 0.05924233 0.06405292 0.08192423 0.07398677 0.07420325\n",
            " 0.07304871 0.06898376 0.06167168 0.06535177 0.06381239 0.06111846\n",
            " 0.0594107  0.05943476 0.06316296 0.05017438 0.06008419 0.044546\n",
            " 0.04432952 0.04834636 0.05919423 0.06900782 0.06819002 0.06248948\n",
            " 0.06164762 0.07011425 0.06944077 0.06956103 0.07206254 0.06987372\n",
            " 0.06660253 0.06806975 0.06606279 0.065949   0.0655042  0.06492144\n",
            " 0.06433066 0.06380746 0.06338747 0.0630845  0.06290056 0.06283257\n",
            " 0.06287373 0.06301536 0.06324829 0.0635625  0.06394613 0.06438822\n",
            " 0.06487671 0.06540158 0.06595292 0.06652068 0.06709711 0.06767484\n",
            " 0.06824908 0.06881359 0.06936447 0.06989898]\n",
            "26 day output [[0.07041577]]\n",
            "27 day input [0.86727601 0.83502105 0.86999399 0.88923632 0.88825015 0.8853638\n",
            " 0.89455201 0.89594708 0.92064943 0.97929044 0.99360192 0.98366807\n",
            " 1.         0.98544799 0.9834997  0.09308479 0.10544799 0.09876127\n",
            " 0.07345761 0.07365003 0.05407096 0.06489477 0.0556825  0.05209862\n",
            " 0.06016837 0.06061335 0.0524113  0.04810583 0.03968731 0.04748046\n",
            " 0.05164161 0.04036079 0.04300661 0.0527721  0.05921828 0.05712568\n",
            " 0.06126278 0.06361996 0.05455201 0.06292243 0.05488876 0.05950692\n",
            " 0.05924233 0.06405292 0.08192423 0.07398677 0.07420325 0.07304871\n",
            " 0.06898376 0.06167168 0.06535177 0.06381239 0.06111846 0.0594107\n",
            " 0.05943476 0.06316296 0.05017438 0.06008419 0.044546   0.04432952\n",
            " 0.04834636 0.05919423 0.06900782 0.06819002 0.06248948 0.06164762\n",
            " 0.07011425 0.06944077 0.06956103 0.07206254 0.06987372 0.06660253\n",
            " 0.06806975 0.06606279 0.065949   0.0655042  0.06492144 0.06433066\n",
            " 0.06380746 0.06338747 0.0630845  0.06290056 0.06283257 0.06287373\n",
            " 0.06301536 0.06324829 0.0635625  0.06394613 0.06438822 0.06487671\n",
            " 0.06540158 0.06595292 0.06652068 0.06709711 0.06767484 0.06824908\n",
            " 0.06881359 0.06936447 0.06989898 0.07041577]\n",
            "27 day output [[0.07091307]]\n",
            "28 day input [0.83502105 0.86999399 0.88923632 0.88825015 0.8853638  0.89455201\n",
            " 0.89594708 0.92064943 0.97929044 0.99360192 0.98366807 1.\n",
            " 0.98544799 0.9834997  0.09308479 0.10544799 0.09876127 0.07345761\n",
            " 0.07365003 0.05407096 0.06489477 0.0556825  0.05209862 0.06016837\n",
            " 0.06061335 0.0524113  0.04810583 0.03968731 0.04748046 0.05164161\n",
            " 0.04036079 0.04300661 0.0527721  0.05921828 0.05712568 0.06126278\n",
            " 0.06361996 0.05455201 0.06292243 0.05488876 0.05950692 0.05924233\n",
            " 0.06405292 0.08192423 0.07398677 0.07420325 0.07304871 0.06898376\n",
            " 0.06167168 0.06535177 0.06381239 0.06111846 0.0594107  0.05943476\n",
            " 0.06316296 0.05017438 0.06008419 0.044546   0.04432952 0.04834636\n",
            " 0.05919423 0.06900782 0.06819002 0.06248948 0.06164762 0.07011425\n",
            " 0.06944077 0.06956103 0.07206254 0.06987372 0.06660253 0.06806975\n",
            " 0.06606279 0.065949   0.0655042  0.06492144 0.06433066 0.06380746\n",
            " 0.06338747 0.0630845  0.06290056 0.06283257 0.06287373 0.06301536\n",
            " 0.06324829 0.0635625  0.06394613 0.06438822 0.06487671 0.06540158\n",
            " 0.06595292 0.06652068 0.06709711 0.06767484 0.06824908 0.06881359\n",
            " 0.06936447 0.06989898 0.07041577 0.07091307]\n",
            "28 day output [[0.07139128]]\n",
            "29 day input [0.86999399 0.88923632 0.88825015 0.8853638  0.89455201 0.89594708\n",
            " 0.92064943 0.97929044 0.99360192 0.98366807 1.         0.98544799\n",
            " 0.9834997  0.09308479 0.10544799 0.09876127 0.07345761 0.07365003\n",
            " 0.05407096 0.06489477 0.0556825  0.05209862 0.06016837 0.06061335\n",
            " 0.0524113  0.04810583 0.03968731 0.04748046 0.05164161 0.04036079\n",
            " 0.04300661 0.0527721  0.05921828 0.05712568 0.06126278 0.06361996\n",
            " 0.05455201 0.06292243 0.05488876 0.05950692 0.05924233 0.06405292\n",
            " 0.08192423 0.07398677 0.07420325 0.07304871 0.06898376 0.06167168\n",
            " 0.06535177 0.06381239 0.06111846 0.0594107  0.05943476 0.06316296\n",
            " 0.05017438 0.06008419 0.044546   0.04432952 0.04834636 0.05919423\n",
            " 0.06900782 0.06819002 0.06248948 0.06164762 0.07011425 0.06944077\n",
            " 0.06956103 0.07206254 0.06987372 0.06660253 0.06806975 0.06606279\n",
            " 0.065949   0.0655042  0.06492144 0.06433066 0.06380746 0.06338747\n",
            " 0.0630845  0.06290056 0.06283257 0.06287373 0.06301536 0.06324829\n",
            " 0.0635625  0.06394613 0.06438822 0.06487671 0.06540158 0.06595292\n",
            " 0.06652068 0.06709711 0.06767484 0.06824908 0.06881359 0.06936447\n",
            " 0.06989898 0.07041577 0.07091307 0.07139128]\n",
            "29 day output [[0.07185023]]\n",
            "[[0.066062793135643], [0.06594900041818619], [0.06550420075654984], [0.06492143869400024], [0.06433065980672836], [0.06380745768547058], [0.06338746845722198], [0.06308449804782867], [0.06290055811405182], [0.06283257156610489], [0.0628737285733223], [0.06301535665988922], [0.06324829161167145], [0.06356249749660492], [0.06394612789154053], [0.0643882155418396], [0.06487671285867691], [0.0654015839099884], [0.06595291942358017], [0.06652068346738815], [0.06709710508584976], [0.06767483800649643], [0.06824908405542374], [0.06881359219551086], [0.06936446577310562], [0.06989897787570953], [0.07041576504707336], [0.07091306895017624], [0.0713912770152092], [0.0718502327799797]]\n"
          ],
          "name": "stdout"
        }
      ]
    },
    {
      "cell_type": "code",
      "metadata": {
        "id": "uYGvGxYrMjgd"
      },
      "source": [
        "day_new=np.arange(1,101)\n",
        "day_pred=np.arange(101,131)"
      ],
      "execution_count": 94,
      "outputs": []
    },
    {
      "cell_type": "code",
      "metadata": {
        "id": "SIhl_BpzMjgd"
      },
      "source": [
        "import matplotlib.pyplot as plt"
      ],
      "execution_count": 95,
      "outputs": []
    },
    {
      "cell_type": "code",
      "metadata": {
        "colab": {
          "base_uri": "https://localhost:8080/"
        },
        "id": "Ec7tRdvZMjgd",
        "outputId": "7788b3d3-e778-4e56-c637-32226850f612"
      },
      "source": [
        "len(df1)"
      ],
      "execution_count": 96,
      "outputs": [
        {
          "output_type": "execute_result",
          "data": {
            "text/plain": [
              "1258"
            ]
          },
          "metadata": {
            "tags": []
          },
          "execution_count": 96
        }
      ]
    },
    {
      "cell_type": "code",
      "metadata": {
        "colab": {
          "base_uri": "https://localhost:8080/",
          "height": 282
        },
        "id": "R69FcK4hMjge",
        "outputId": "0af5bc8d-45ca-4bfe-fa4a-8d2184f8f001"
      },
      "source": [
        "df3=df1.tolist()\n",
        "df3.extend(lst_output)\n",
        "plt.plot(df3[1200:])"
      ],
      "execution_count": 98,
      "outputs": [
        {
          "output_type": "execute_result",
          "data": {
            "text/plain": [
              "[<matplotlib.lines.Line2D at 0x7fca56cd9860>]"
            ]
          },
          "metadata": {
            "tags": []
          },
          "execution_count": 98
        },
        {
          "output_type": "display_data",
          "data": {
            "image/png": "[encoded data removed]",
            "text/plain": [
              "<Figure size 432x288 with 1 Axes>"
            ]
          },
          "metadata": {
            "tags": [],
            "needs_background": "light"
          }
        }
      ]
    },
    {
      "cell_type": "markdown",
      "metadata": {
        "id": "Aun13VbJRV4w"
      },
      "source": [
        "# This show that there is a increase in stock price and also from the sentiment also we found a hike so we could buy apple stocks and also we could hold the apple stock for better profit gain"
      ]
    },
    {
      "cell_type": "markdown",
      "metadata": {
        "id": "JjAd1qFZRtda"
      },
      "source": [
        ""
      ]
    }
  ]
}